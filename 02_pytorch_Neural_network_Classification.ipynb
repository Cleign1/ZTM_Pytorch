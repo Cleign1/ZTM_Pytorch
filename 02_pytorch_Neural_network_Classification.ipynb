{
 "cells": [
  {
   "cell_type": "code",
   "execution_count": 1,
   "id": "8330e386-3347-4a7e-b112-ce6bc36613bb",
   "metadata": {},
   "outputs": [
    {
     "data": {
      "text/plain": [
       "'2.4.0+cu124'"
      ]
     },
     "execution_count": 1,
     "metadata": {},
     "output_type": "execute_result"
    }
   ],
   "source": [
    "import torch\n",
    "\n",
    "torch.__version__"
   ]
  },
  {
   "cell_type": "markdown",
   "id": "d33a64a1-9db1-41b0-846f-9aad452b5ac1",
   "metadata": {},
   "source": [
    "# 02. Neural Classification with Pytorch\n",
    "classification is a problem of predicting whether something is one thing or another"
   ]
  },
  {
   "cell_type": "markdown",
   "id": "a6542340-d7ce-456f-aea4-a65c00b7bb5a",
   "metadata": {},
   "source": [
    "## 1. Buat klasisfikasi and get it ready"
   ]
  },
  {
   "cell_type": "code",
   "execution_count": 2,
   "id": "2f32c1eb-fd67-4d8c-bdbc-f0f75e0be2ac",
   "metadata": {},
   "outputs": [
    {
     "data": {
      "text/plain": [
       "'1.5.1'"
      ]
     },
     "execution_count": 2,
     "metadata": {},
     "output_type": "execute_result"
    }
   ],
   "source": [
    "import sklearn\n",
    "sklearn.__version__"
   ]
  }
 ],
 "metadata": {
  "kernelspec": {
   "display_name": "Python 3 (ipykernel)",
   "language": "python",
   "name": "python3"
  },
  "language_info": {
   "codemirror_mode": {
    "name": "ipython",
    "version": 3
   },
   "file_extension": ".py",
   "mimetype": "text/x-python",
   "name": "python",
   "nbconvert_exporter": "python",
   "pygments_lexer": "ipython3",
   "version": "3.10.11"
  }
 },
 "nbformat": 4,
 "nbformat_minor": 5
}
