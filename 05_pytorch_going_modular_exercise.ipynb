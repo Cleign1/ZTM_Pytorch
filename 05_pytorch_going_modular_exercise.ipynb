{
 "cells": [
  {
   "cell_type": "markdown",
   "metadata": {
    "colab_type": "text",
    "id": "view-in-github"
   },
   "source": [
    "<a href=\"https://colab.research.google.com/github/mrdbourke/pytorch-deep-learning/blob/main/extras/exercises/05_pytorch_going_modular_exercise_template.ipynb\" target=\"_parent\"><img src=\"https://colab.research.google.com/assets/colab-badge.svg\" alt=\"Open In Colab\"/></a>"
   ]
  },
  {
   "cell_type": "markdown",
   "metadata": {
    "id": "zNqPNlYylluR"
   },
   "source": [
    "# 05. PyTorch Going Modular Exercises\n",
    "\n",
    "Welcome to the 05. PyTorch Going Modular exercise template notebook.\n",
    "\n",
    "There are several questions in this notebook and it's your goal to answer them by writing Python and PyTorch code.\n",
    "\n",
    "> **Note:** There may be more than one solution to each of the exercises, don't worry too much about the *exact* right answer. Try to write some code that works first and then improve it if you can.\n",
    "\n",
    "## Resources and solutions\n",
    "\n",
    "* These exercises/solutions are based on [section 05. PyTorch Going Modular](https://www.learnpytorch.io/05_pytorch_going_modular/) of the Learn PyTorch for Deep Learning course by Zero to Mastery.\n",
    "\n",
    "**Solutions:** \n",
    "\n",
    "Try to complete the code below *before* looking at these.\n",
    "\n",
    "* See a live [walkthrough of the solutions (errors and all) on YouTube](https://youtu.be/ijgFhMK3pp4).\n",
    "* See an example [solutions notebook for these exercises on GitHub](https://github.com/mrdbourke/pytorch-deep-learning/blob/main/extras/solutions/05_pytorch_going_modular_exercise_solutions.ipynb)."
   ]
  },
  {
   "cell_type": "markdown",
   "metadata": {
    "id": "bicbWSrPmfTU"
   },
   "source": [
    "## 1. Turn the code to get the data (from section 1. Get Data) into a Python script, such as `get_data.py`.\n",
    "\n",
    "* When you run the script using `python get_data.py` it should check if the data already exists and skip downloading if it does.\n",
    "* If the data download is successful, you should be able to access the `pizza_steak_sushi` images from the `data` directory."
   ]
  },
  {
   "cell_type": "code",
   "execution_count": 11,
   "metadata": {
    "id": "r0BCn1XIYZ8c"
   },
   "outputs": [
    {
     "name": "stdout",
     "output_type": "stream",
     "text": [
      "Overwriting 05_exercise_scripts/get_data.py\n"
     ]
    }
   ],
   "source": [
    "%%writefile 05_exercise_scripts/get_data.py\n",
    "\n",
    "import os\n",
    "import zipfile\n",
    "\n",
    "from pathlib import Path\n",
    "\n",
    "import requests\n",
    "\n",
    "# setup the data directory\n",
    "data_dir = Path(\"data\")\n",
    "image_path = data_dir / \"pizza_steak_sushi\"\n",
    "\n",
    "if image_path.is_dir():\n",
    "    print(f'Image path {image_path} is a directory')\n",
    "else:\n",
    "    print(f'Image path {image_path} is not a directory')\n",
    "    print('creating the directory...')\n",
    "    image_path.mkdir(parents=True, exist_ok=True)\n",
    "    \n",
    "with open(data_dir / \"pizza_steak_sushi.zip\", \"wb\") as f:\n",
    "    request = requests.get(\"https://github.com/mrdbourke/pytorch-deep-learning/raw/main/data/pizza_steak_sushi.zip\")\n",
    "    print(\"Downloading data...\")\n",
    "    f.write(request.content)\n",
    "    \n",
    "with zipfile.ZipFile(data_dir / \"pizza_steak_sushi.zip\", \"r\") as zip_ref:\n",
    "    print(\"Unzipping data...\")\n",
    "    zip_ref.extractall(data_dir)\n",
    "    \n",
    "os.remove(data_dir / \"pizza_steak_sushi.zip\")"
   ]
  },
  {
   "cell_type": "code",
   "execution_count": 12,
   "metadata": {
    "id": "_LrUOIC-YOP9"
   },
   "outputs": [
    {
     "name": "stdout",
     "output_type": "stream",
     "text": [
      "Image path data/pizza_steak_sushi is not a directory\n",
      "creating the directory...\n",
      "Downloading data...\n",
      "Unzipping data...\n"
     ]
    }
   ],
   "source": [
    "# Example running of get_data.py\n",
    "!python 05_exercise_scripts/get_data.py"
   ]
  },
  {
   "cell_type": "markdown",
   "metadata": {
    "id": "zjyn7LU3mvkR"
   },
   "source": [
    "## 2. Use [Python's `argparse` module](https://docs.python.org/3/library/argparse.html) to be able to send the `train.py` custom hyperparameter values for training procedures.\n",
    "* Add an argument flag for using a different:\n",
    "  * Training/testing directory\n",
    "  * Learning rate\n",
    "  * Batch size\n",
    "  * Number of epochs to train for\n",
    "  * Number of hidden units in the TinyVGG model\n",
    "    * Keep the default values for each of the above arguments as what they already are (as in notebook 05).\n",
    "* For example, you should be able to run something similar to the following line to train a TinyVGG model with a learning rate of 0.003 and a batch size of 64 for 20 epochs: `python train.py --learning_rate 0.003 batch_size 64 num_epochs 20`.\n",
    "* **Note:** Since `train.py` leverages the other scripts we created in section 05, such as, `model_builder.py`, `utils.py` and `engine.py`, you'll have to make sure they're available to use too. You can find these in the [`going_modular` folder on the course GitHub](https://github.com/mrdbourke/pytorch-deep-learning/tree/main/going_modular/going_modular). "
   ]
  },
  {
   "cell_type": "code",
   "execution_count": 23,
   "metadata": {
    "id": "MKNDUp45YaW-"
   },
   "outputs": [
    {
     "name": "stdout",
     "output_type": "stream",
     "text": [
      "Overwriting 05_exercise_scripts/train.py\n"
     ]
    }
   ],
   "source": [
    "%%writefile 05_exercise_scripts/train.py\n",
    "# YOUR CODE HERE\n",
    "import os\n",
    "import torch\n",
    "from torchvision.transforms import v2 as transforms\n",
    "import argparse\n",
    "import data_setup, model_builder, engine, utils\n",
    "\n",
    "# setup device agnostic code\n",
    "device = \"cuda\" if torch.cuda.is_available() else \"cpu\"\n",
    "\n",
    "# setup parser\n",
    "parser = argparse.ArgumentParser(description=\"butuh hyperparameter\")\n",
    "\n",
    "# setup argparser untuk num_epochs\n",
    "parser.add_argument(\"--num_epochs\", type=int, default=10, help=\"number of epochs to train model, default=10\")\n",
    "\n",
    "# setup argparser untuk batch_size\n",
    "parser.add_argument(\"--batch_size\", type=int, default=32, help=\"batch size for training model, default=32\")\n",
    "\n",
    "# setup argparser untuk hidden layer\n",
    "parser.add_argument(\"--hidden_units\", type=int, default=64, help=\"hidden layer size for model, default=128\")\n",
    "\n",
    "# setup argparser untuk learning rate\n",
    "parser.add_argument(\"--learning_rate\", type=float, default=0.001, help=\"learning rate for model, default=0.001\")\n",
    "\n",
    "# setup argparser untuk training directory\n",
    "parser.add_argument(\"--train_dir\", type=str, default=\"data/train\", help=\"training directory for model, default=data/pizza_steak_sushi/train\")\n",
    "\n",
    "# setup argparser untuk testing directory\n",
    "parser.add_argument(\"--test_dir\", type=str, default=\"data/test\", help=\"testing directory for model, default=data/pizza_steak_sushi/test\")\n",
    "\n",
    "args = parser.parse_args()\n",
    "\n",
    "NUM_EPOCHS = args.num_epochs\n",
    "BATCH_SIZE = args.batch_size\n",
    "HIDDEN_UNITS = args.hidden_units\n",
    "LEARNING_RATE = args.learning_rate\n",
    "print(f'[INFO] Training model for {NUM_EPOCHS} epochs with batch size {BATCH_SIZE}, hidden layer size {HIDDEN_UNITS}, and learning rate {LEARNING_RATE}')\n",
    "\n",
    "# setup directories\n",
    "train_dir = args.train_dir\n",
    "test_dir = args.test_dir\n",
    "\n",
    "print(f'[INFO] Training directory: {train_dir}')\n",
    "print(f'[INFO] Testing directory: {test_dir}')\n",
    "\n",
    "data_transform = transforms.Compose([\n",
    "    transforms.Resize((64, 64)),\n",
    "    transforms.ToImage(),\n",
    "    transforms.ToDtype(torch.float32,scale=True),\n",
    "])\n",
    "\n",
    "train_dataloader, test_dataloader, class_names = data_setup.create_dataloaders(train_dir, \n",
    "                                                                               test_dir, \n",
    "                                                                               data_transform, \n",
    "                                                                               BATCH_SIZE)\n",
    "\n",
    "model = model_builder.TinyVGG(input_shape=3 ,hidden_units=HIDDEN_UNITS, output_shape=len(class_names)).to(device)\n",
    "\n",
    "loss_fn = torch.nn.CrossEntropyLoss()\n",
    "optimizer = torch.optim.Adam(model.parameters(), lr=LEARNING_RATE)\n",
    "\n",
    "engine.train(model=model,\n",
    "             train_dataloader=train_dataloader,\n",
    "             test_dataloader=test_dataloader,\n",
    "             loss_fn=loss_fn,\n",
    "             optimizer=optimizer,\n",
    "             device=device,\n",
    "             epochs=NUM_EPOCHS)\n",
    "\n",
    "utils.save_model(model=model,\n",
    "                 target_dir=\"models\",\n",
    "                 model_name=\"05_tiny_vgg_script_mode.pth\",)"
   ]
  },
  {
   "cell_type": "code",
   "execution_count": 25,
   "metadata": {
    "id": "LzaJl39lC40N"
   },
   "outputs": [
    {
     "name": "stdout",
     "output_type": "stream",
     "text": [
      "[INFO] Training model for 20 epochs with batch size 128, hidden layer size 128, and learning rate 0.0003\n",
      "[INFO] Training directory: data/train\n",
      "[INFO] Testing directory: data/test\n",
      "  0%|                                                    | 0/20 [00:00<?, ?it/s]Epoch: 1 | train_loss: 1.1022 | train_acc: 0.2928 | test_loss: 1.0957 | test_acc: 0.4400\n",
      "  5%|██▏                                         | 1/20 [00:03<01:12,  3.80s/it]Epoch: 2 | train_loss: 1.0845 | train_acc: 0.4860 | test_loss: 1.0793 | test_acc: 0.3333\n",
      " 10%|████▍                                       | 2/20 [00:07<01:04,  3.57s/it]Epoch: 3 | train_loss: 1.0607 | train_acc: 0.3898 | test_loss: 1.0538 | test_acc: 0.3867\n",
      " 15%|██████▌                                     | 3/20 [00:10<00:59,  3.48s/it]Epoch: 4 | train_loss: 1.0117 | train_acc: 0.5404 | test_loss: 1.0178 | test_acc: 0.4800\n",
      " 20%|████████▊                                   | 4/20 [00:13<00:53,  3.33s/it]Epoch: 5 | train_loss: 0.9423 | train_acc: 0.5312 | test_loss: 1.0091 | test_acc: 0.4000\n",
      " 25%|███████████                                 | 5/20 [00:16<00:49,  3.30s/it]Epoch: 6 | train_loss: 0.8872 | train_acc: 0.5957 | test_loss: 1.0274 | test_acc: 0.4133\n",
      " 30%|█████████████▏                              | 6/20 [00:20<00:45,  3.27s/it]Epoch: 7 | train_loss: 0.8494 | train_acc: 0.5843 | test_loss: 1.0049 | test_acc: 0.4533\n",
      " 35%|███████████████▍                            | 7/20 [00:23<00:42,  3.29s/it]Epoch: 8 | train_loss: 0.8394 | train_acc: 0.5827 | test_loss: 1.0382 | test_acc: 0.4267\n",
      " 40%|█████████████████▌                          | 8/20 [00:26<00:39,  3.33s/it]Epoch: 9 | train_loss: 0.8591 | train_acc: 0.6347 | test_loss: 1.0431 | test_acc: 0.4133\n",
      " 45%|███████████████████▊                        | 9/20 [00:30<00:36,  3.36s/it]Epoch: 10 | train_loss: 0.8331 | train_acc: 0.6246 | test_loss: 1.0276 | test_acc: 0.4667\n",
      " 50%|█████████████████████▌                     | 10/20 [00:33<00:34,  3.45s/it]Epoch: 11 | train_loss: 0.7991 | train_acc: 0.6658 | test_loss: 1.0018 | test_acc: 0.4933\n",
      " 55%|███████████████████████▋                   | 11/20 [00:37<00:31,  3.46s/it]Epoch: 12 | train_loss: 0.7864 | train_acc: 0.6685 | test_loss: 1.0158 | test_acc: 0.4800\n",
      " 60%|█████████████████████████▊                 | 12/20 [00:41<00:28,  3.50s/it]Epoch: 13 | train_loss: 0.7486 | train_acc: 0.6968 | test_loss: 1.0505 | test_acc: 0.4400\n",
      " 65%|███████████████████████████▉               | 13/20 [00:44<00:24,  3.52s/it]Epoch: 14 | train_loss: 0.7704 | train_acc: 0.6219 | test_loss: 1.0277 | test_acc: 0.4667\n",
      " 70%|██████████████████████████████             | 14/20 [00:48<00:21,  3.55s/it]Epoch: 15 | train_loss: 0.7179 | train_acc: 0.6669 | test_loss: 1.0362 | test_acc: 0.5200\n",
      " 75%|████████████████████████████████▎          | 15/20 [00:51<00:17,  3.56s/it]Epoch: 16 | train_loss: 0.7671 | train_acc: 0.6571 | test_loss: 1.0309 | test_acc: 0.4667\n",
      " 80%|██████████████████████████████████▍        | 16/20 [00:55<00:14,  3.54s/it]Epoch: 17 | train_loss: 0.7008 | train_acc: 0.7032 | test_loss: 1.0743 | test_acc: 0.4533\n",
      " 85%|████████████████████████████████████▌      | 17/20 [00:58<00:10,  3.53s/it]Epoch: 18 | train_loss: 0.7023 | train_acc: 0.6776 | test_loss: 1.0485 | test_acc: 0.4667\n",
      " 90%|██████████████████████████████████████▋    | 18/20 [01:02<00:07,  3.53s/it]Epoch: 19 | train_loss: 0.7137 | train_acc: 0.6996 | test_loss: 1.0427 | test_acc: 0.4533\n",
      " 95%|████████████████████████████████████████▊  | 19/20 [01:05<00:03,  3.56s/it]Epoch: 20 | train_loss: 0.6510 | train_acc: 0.7319 | test_loss: 1.1019 | test_acc: 0.4667\n",
      "100%|███████████████████████████████████████████| 20/20 [01:09<00:00,  3.48s/it]\n",
      "[INFO] Saving model to: models/05_tiny_vgg_script_mode.pth\n"
     ]
    }
   ],
   "source": [
    "# Example running of train.py\n",
    "!python 05_exercise_scripts/train.py --num_epochs 20 --batch_size 128 --hidden_units 128 --learning_rate 0.0003"
   ]
  },
  {
   "cell_type": "markdown",
   "metadata": {
    "id": "P2g6EEYvm-46"
   },
   "source": [
    "## 3. Create a Python script to predict (such as `predict.py`) on a target image given a file path with a saved model.\n",
    "\n",
    "* For example, you should be able to run the command `python predict.py some_image.jpeg` and have a trained PyTorch model predict on the image and return its prediction.\n",
    "* To see example prediction code, check out the [predicting on a custom image section in notebook 04](https://www.learnpytorch.io/04_pytorch_custom_datasets/#113-putting-custom-image-prediction-together-building-a-function). \n",
    "* You may also have to write code to load in a trained model."
   ]
  },
  {
   "cell_type": "code",
   "execution_count": 34,
   "metadata": {
    "id": "HU7W6VZfYawP"
   },
   "outputs": [
    {
     "name": "stdout",
     "output_type": "stream",
     "text": [
      "Overwriting 05_exercise_scripts/predict.py\n"
     ]
    }
   ],
   "source": [
    "%%writefile 05_exercise_scripts/predict.py\n",
    "# YOUR CODE HERE\n",
    "import torch\n",
    "import torchvision\n",
    "import argparse\n",
    "\n",
    "import model_builder\n",
    "\n",
    "parser = argparse.ArgumentParser(description=\"butuh hyperparameter\")\n",
    "\n",
    "# setup argparser untuk image_path\n",
    "parser.add_argument(\"--image_path\", help=\"path to image file for prediction\")\n",
    "\n",
    "parser.add_argument(\"--model_path\",\n",
    "                    default=\"models/05_tiny_vgg_script_mode.pth\",\n",
    "                    type=str,\n",
    "                    help=\"path to model for prediction\")\n",
    "\n",
    "args = parser.parse_args()\n",
    "\n",
    "class_names = [\"pizza\", \"steak\", \"sushi\"]\n",
    "\n",
    "device = \"cuda\" if torch.cuda.is_available() else \"cpu\"\n",
    "\n",
    "IMG_PATH = args.image_path\n",
    "print(f'[INFO] Image path: {IMG_PATH}')\n",
    "\n",
    "def load_model(filepath=args.model_path):\n",
    "    model = model_builder.TinyVGG(input_shape=3, \n",
    "                                  hidden_units=128, \n",
    "                                  output_shape=3).to(device)\n",
    "    model.load_state_dict(torch.load(filepath))\n",
    "    \n",
    "    return model\n",
    "\n",
    "def predict_on_image(image_path=IMG_PATH, filepath=args.model_path):\n",
    "    model = load_model(filepath)\n",
    "    \n",
    "    image = torchvision.io.read_image(str(IMG_PATH)).type(torch.float32)\n",
    "    \n",
    "    image = image / 255.0\n",
    "    \n",
    "    transform = torchvision.transforms.Resize((64, 64))\n",
    "    image = transform(image)\n",
    "    \n",
    "    model.eval()\n",
    "    with torch.inference_mode():\n",
    "        image = image.to(device)\n",
    "        pred_logits = model(image.unsqueeze(dim=0))\n",
    "        pred_probs = torch.softmax(pred_logits, dim=1)\n",
    "        \n",
    "        pred_label = torch.argmax(pred_logits, dim=1)\n",
    "        pred_label_class = class_names[pred_label]\n",
    "        \n",
    "    print(f'[INFO] Pred Class: {pred_label_class}, pred prob: {pred_probs.max():.3f}')\n",
    "    \n",
    "if __name__ == \"__main__\":\n",
    "    predict_on_image()"
   ]
  },
  {
   "cell_type": "code",
   "execution_count": 35,
   "metadata": {
    "id": "Zcvw9sitIn6r"
   },
   "outputs": [
    {
     "name": "stdout",
     "output_type": "stream",
     "text": [
      "[INFO] Image path: data/test/sushi/175783.jpg\n",
      "/root/ZTM_Pytorch/05_exercise_scripts/predict.py:31: FutureWarning: You are using `torch.load` with `weights_only=False` (the current default value), which uses the default pickle module implicitly. It is possible to construct malicious pickle data which will execute arbitrary code during unpickling (See https://github.com/pytorch/pytorch/blob/main/SECURITY.md#untrusted-models for more details). In a future release, the default value for `weights_only` will be flipped to `True`. This limits the functions that could be executed during unpickling. Arbitrary objects will no longer be allowed to be loaded via this mode unless they are explicitly allowlisted by the user via `torch.serialization.add_safe_globals`. We recommend you start setting `weights_only=True` for any use case where you don't have full control of the loaded file. Please open an issue on GitHub for any issues related to this experimental feature.\n",
      "  model.load_state_dict(torch.load(filepath))\n",
      "[INFO] Pred Class: pizza, pred prob: 0.416\n"
     ]
    }
   ],
   "source": [
    "# Example running of predict.py \n",
    "!python 05_exercise_scripts/predict.py --image data/test/sushi/175783.jpg"
   ]
  }
 ],
 "metadata": {
  "accelerator": "GPU",
  "colab": {
   "authorship_tag": "ABX9TyNcX0JATB1YsaAFGNe0TGWq",
   "collapsed_sections": [],
   "include_colab_link": true,
   "name": "05_pytorch_going_modular_exercise_template.ipynb",
   "provenance": []
  },
  "kernelspec": {
   "display_name": "base",
   "language": "python",
   "name": "python3"
  },
  "language_info": {
   "codemirror_mode": {
    "name": "ipython",
    "version": 3
   },
   "file_extension": ".py",
   "mimetype": "text/x-python",
   "name": "python",
   "nbconvert_exporter": "python",
   "pygments_lexer": "ipython3",
   "version": "3.11.9"
  }
 },
 "nbformat": 4,
 "nbformat_minor": 0
}
