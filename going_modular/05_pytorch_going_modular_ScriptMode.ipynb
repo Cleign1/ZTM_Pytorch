{
 "cells": [
  {
   "cell_type": "markdown",
   "metadata": {
    "vscode": {
     "languageId": "plaintext"
    }
   },
   "source": [
    "# 05. Pytorch Going Modular"
   ]
  },
  {
   "cell_type": "markdown",
   "metadata": {
    "vscode": {
     "languageId": "plaintext"
    }
   },
   "source": [
    "functionize the code from the previous notebook for scriptability and reusability"
   ]
  },
  {
   "cell_type": "markdown",
   "metadata": {
    "vscode": {
     "languageId": "plaintext"
    }
   },
   "source": [
    "### 2.1 Create dataset and DataLoaders (Script Mode)\n",
    "\n",
    "menggunakan magic function dari jupiter untuk membuat script dari cell yang diinginkan"
   ]
  },
  {
   "cell_type": "code",
   "execution_count": null,
   "metadata": {},
   "outputs": [
    {
     "name": "stdout",
     "output_type": "stream",
     "text": [
      "Overwriting data_setup.py\n"
     ]
    }
   ],
   "source": [
    "%%writefile data_setup.py\n",
    "\"\"\"\n",
    "Contains functionality for setting up the data for Pytorch DataLoader\n",
    "\"\"\"\n",
    "import os\n",
    "\n",
    "import torchvision.transforms.v2 as trans\n",
    "from torchvision import datasets\n",
    "from torch.utils.data import DataLoader\n",
    "\n",
    "num_workers = os.cpu_count()\n",
    "\n",
    "def create_dataloaders(\n",
    "    train_dir: str,\n",
    "    test_dir: str,\n",
    "    transform: trans.Compose,\n",
    "    batch_size: int,\n",
    "    num_workers: int, ):\n",
    "    \"\"\"\n",
    "    Creates training and validation DataLoader objects.\n",
    "    Args:\n",
    "        train_dir (str): Directory path to the training dataset.\n",
    "        test_dir (str): Directory path to the validation dataset.\n",
    "        transform (trans.Compose): Transformations to apply to the dataset.\n",
    "        batch_size (int): Number of samples per batch.\n",
    "        num_workers (int): Number of subprocesses to use for data loading.\n",
    "    Returns:\n",
    "        tuple: A tuple containing:\n",
    "            - DataLoader: DataLoader object for the training dataset.\n",
    "            - DataLoader: DataLoader object for the validation dataset.\n",
    "    \"\"\"\n",
    "    # pake ImageFolder to create datasets\n",
    "    train_data = datasets.ImageFolder(train_dir, transform=transform)\n",
    "    test_data = datasets.ImageFolder(test_dir, transform=transform)\n",
    "    \n",
    "    # Get class name\n",
    "    class_names = train_data.classes\n",
    "    \n",
    "    # Turn images into DataLoader\n",
    "    train_dataloader = DataLoader(\n",
    "        train_data,\n",
    "        batch_size=batch_size,\n",
    "        shuffle=True,\n",
    "        num_workers=num_workers,\n",
    "        pin_memory=True,\n",
    "    )\n",
    "    \n",
    "    test_dataloader = DataLoader(\n",
    "        test_data,\n",
    "        batch_size=batch_size,\n",
    "        shuffle=False,\n",
    "        num_workers=num_workers,\n",
    "        pin_memory=True,\n",
    "    )\n",
    "    \n",
    "    return train_dataloader, test_dataloader, class_names"
   ]
  },
  {
   "cell_type": "code",
   "execution_count": null,
   "metadata": {},
   "outputs": [],
   "source": []
  }
 ],
 "metadata": {
  "kernelspec": {
   "display_name": "venv",
   "language": "python",
   "name": "python3"
  },
  "language_info": {
   "codemirror_mode": {
    "name": "ipython",
    "version": 3
   },
   "file_extension": ".py",
   "mimetype": "text/x-python",
   "name": "python",
   "nbconvert_exporter": "python",
   "pygments_lexer": "ipython3",
   "version": "3.10.11"
  }
 },
 "nbformat": 4,
 "nbformat_minor": 2
}
