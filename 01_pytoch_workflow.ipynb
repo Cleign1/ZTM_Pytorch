{
 "cells": [
  {
   "cell_type": "code",
   "execution_count": 1,
   "metadata": {},
   "outputs": [],
   "source": [
    "import torch"
   ]
  },
  {
   "cell_type": "code",
   "execution_count": 2,
   "metadata": {
    "editable": true,
    "slideshow": {
     "slide_type": ""
    },
    "tags": []
   },
   "outputs": [
    {
     "data": {
      "text/plain": [
       "True"
      ]
     },
     "execution_count": 2,
     "metadata": {},
     "output_type": "execute_result"
    }
   ],
   "source": [
    "torch.cuda.is_available()"
   ]
  },
  {
   "cell_type": "markdown",
   "metadata": {},
   "source": [
    "# Pytorch Workflow\n",
    "\n",
    "exploring [pytorch](https://pytorch.org)\n",
    "from udemy course pytoch for Deep Learning Bootcamp"
   ]
  },
  {
   "cell_type": "code",
   "execution_count": 3,
   "metadata": {},
   "outputs": [
    {
     "data": {
      "text/plain": [
       "{1: 'data (preparing and loading)',\n",
       " 2: 'build Model',\n",
       " 3: 'training model or fitting the model to the data',\n",
       " 4: 'make predictions and evaluating and a model',\n",
       " 5: 'save and load model',\n",
       " 6: 'putting it all together'}"
      ]
     },
     "execution_count": 3,
     "metadata": {},
     "output_type": "execute_result"
    }
   ],
   "source": [
    "what_is_covered = {1: \"data (preparing and loading)\",\n",
    "                   2: \"build Model\",\n",
    "                   3: \"training model or fitting the model to the data\",\n",
    "                   4: \"make predictions and evaluating and a model\", \n",
    "                   5: \"save and load model\", \n",
    "                   6: \"putting it all together\"}\n",
    "what_is_covered"
   ]
  },
  {
   "cell_type": "code",
   "execution_count": 4,
   "metadata": {},
   "outputs": [
    {
     "data": {
      "text/plain": [
       "'2.4.0+cu124'"
      ]
     },
     "execution_count": 4,
     "metadata": {},
     "output_type": "execute_result"
    }
   ],
   "source": [
    "## Neural Network\n",
    "\n",
    "from torch import nn\n",
    "import matplotlib.pyplot as plt\n",
    "\n",
    "torch.__version__"
   ]
  },
  {
   "cell_type": "markdown",
   "metadata": {},
   "source": [
    "## 1. Data (preparing and loading)\n",
    "\n",
    "data can be anything in machine learning\n",
    "\n",
    "most popular data\n",
    "* Excel spreadsheet\n",
    "* Images\n",
    "* Videos\n",
    "* Audio\n",
    "* Text\n",
    "\n",
    "Machine Learning is a game\n",
    "1. Get data into a numerical representation.\n",
    "2. build a model to learn patterns in the numerical rep.\n",
    "\n",
    "to showcase, lets create the following data using linear regression formula\n",
    "\n",
    "Y = a + bX"
   ]
  },
  {
   "cell_type": "code",
   "execution_count": 5,
   "metadata": {},
   "outputs": [
    {
     "data": {
      "text/plain": [
       "(tensor([[0.0000],\n",
       "         [0.0200],\n",
       "         [0.0400],\n",
       "         [0.0600],\n",
       "         [0.0800],\n",
       "         [0.1000],\n",
       "         [0.1200],\n",
       "         [0.1400],\n",
       "         [0.1600],\n",
       "         [0.1800]]),\n",
       " tensor([[0.3000],\n",
       "         [0.3140],\n",
       "         [0.3280],\n",
       "         [0.3420],\n",
       "         [0.3560],\n",
       "         [0.3700],\n",
       "         [0.3840],\n",
       "         [0.3980],\n",
       "         [0.4120],\n",
       "         [0.4260]]),\n",
       " 50,\n",
       " 50)"
      ]
     },
     "execution_count": 5,
     "metadata": {},
     "output_type": "execute_result"
    }
   ],
   "source": [
    "# Create known parameters\n",
    "\n",
    "weight  = 0.7\n",
    "bias = 0.3\n",
    "\n",
    "start = 0\n",
    "end = 1\n",
    "step = 0.02\n",
    "\n",
    "X = torch.arange(start, end, step).unsqueeze(dim=1)\n",
    "Y = weight * X + bias\n",
    "\n",
    "X[:10], Y[:10], len(X), len(Y)"
   ]
  },
  {
   "cell_type": "markdown",
   "metadata": {},
   "source": [
    "### Splitting data into training and test set\n",
    "\n",
    "create a training and test set with our data"
   ]
  },
  {
   "cell_type": "code",
   "execution_count": 6,
   "metadata": {},
   "outputs": [
    {
     "data": {
      "text/plain": [
       "(40, 40, 10, 10)"
      ]
     },
     "execution_count": 6,
     "metadata": {},
     "output_type": "execute_result"
    }
   ],
   "source": [
    "# create train/test split\n",
    "train_split = int(0.8 * len(X))\n",
    "X_train, Y_train = X[:train_split], Y[:train_split]\n",
    "X_test, Y_test = X[train_split:], Y[train_split:]\n",
    "\n",
    "len(X_train), len(Y_train), len(X_test), len(Y_test)"
   ]
  },
  {
   "cell_type": "markdown",
   "metadata": {},
   "source": [
    "Visualize data\n",
    "\n",
    "data explorer motto :\n",
    "visualize, visualize, visualize\n"
   ]
  },
  {
   "cell_type": "code",
   "execution_count": 7,
   "metadata": {},
   "outputs": [
    {
     "data": {
      "image/png": "[encoded data removed]",
      "text/plain": [
       "<Figure size 1000x700 with 1 Axes>"
      ]
     },
     "metadata": {},
     "output_type": "display_data"
    }
   ],
   "source": [
    "def plot_predictions(train_data=X_train,\n",
    "                    train_labels=Y_train,\n",
    "                    test_data=X_test,\n",
    "                    test_labels=Y_test,\n",
    "                    predictions=None):\n",
    "    \n",
    "    # set up plot\n",
    "    plt.figure(figsize=(10, 7))\n",
    "    \n",
    "    # plot training data in blue\n",
    "    plt.scatter(train_data, train_labels, c=\"b\", s=4, label=\"Training data\")\n",
    "    \n",
    "    #plot test data in green\n",
    "    plt.scatter(test_data, test_labels, c='g', s=4, label=\"Test Data\")\n",
    "\n",
    "    # apakah ada prediksi?\n",
    "    if predictions is not None:\n",
    "        # plot the predictions if they exist\n",
    "        plt.scatter(test_data, predictions, c='r', s=4, label=\"Predictions\")\n",
    "\n",
    "    # show legends\n",
    "    plt.legend(prop={\"size\":14})\n",
    "    plt.show()\n",
    "\n",
    "plot_predictions()"
   ]
  },
  {
   "cell_type": "markdown",
   "metadata": {},
   "source": [
    "## 2. Build Model\n",
    "\n",
    "first pytoch model\n",
    "\n",
    "what our model does:\n",
    "* start from random values (weight and bias)\n",
    "* look at training data and adjust the random values to better represent or get closer to the ideal values\n",
    "\n",
    "how does it do so?\n",
    "\n",
    "through two main algorithms:\n",
    "1. gradient descend\n",
    "2. backpropagation"
   ]
  },
  {
   "cell_type": "code",
   "execution_count": 8,
   "metadata": {},
   "outputs": [],
   "source": [
    "# Create a linear reggression model class\n",
    "import torch.nn as nn\n",
    "\n",
    "class LinearReggressionModel(nn.Module): # almost everything in Pytorch inherits nn.module\n",
    "    def __init__(self):\n",
    "        super().__init__()\n",
    "        self.weights = nn.Parameter(torch.randn(1, # start with random values\n",
    "                                                requires_grad=True,\n",
    "                                                dtype=torch.float))\n",
    "        self.bias = nn.Parameter(torch.randn(1, # started with random values\n",
    "                                            requires_grad=True,\n",
    "                                            dtype=torch.float))\n",
    "\n",
    "    # Foward untuk menjelaskan komputasi dalam model\n",
    "    def forward(self, x: torch.Tensor) -> torch.Tensor: # <- \"x\" adalah input data\n",
    "        return self.weights * x + self.bias"
   ]
  },
  {
   "cell_type": "markdown",
   "metadata": {},
   "source": [
    "### Pytorch model building essentials\n",
    "\n",
    "* torch.nn - all of computational neural networks\n",
    "* torch.nn.parameters - what parameters should our model try and learn, often pytorch layer from torch.nn\n",
    "* torch.nn.module - the base class for all neural network modules, if you subclass it, you should overwrite foward\n",
    "* torch.optim - pytorch optimizer, same as optimizer in tensorflow\n",
    "* def foward - all nn.modules subclasses require to overwrite foward, this defines what happens in the foward computation"
   ]
  },
  {
   "cell_type": "markdown",
   "metadata": {},
   "source": [
    "### cek model pytorch\n",
    "\n",
    "lihat isi dari model pytorch ini\n",
    "\n",
    "bisa cek parameter atau apa isi dari model pake .parameters()"
   ]
  },
  {
   "cell_type": "code",
   "execution_count": 45,
   "metadata": {},
   "outputs": [
    {
     "data": {
      "text/plain": [
       "[Parameter containing:\n",
       " tensor([0.3367], requires_grad=True),\n",
       " Parameter containing:\n",
       " tensor([0.1288], requires_grad=True)]"
      ]
     },
     "execution_count": 45,
     "metadata": {},
     "output_type": "execute_result"
    }
   ],
   "source": [
    "# create random seed\n",
    "torch.manual_seed(42)\n",
    "\n",
    "# create instance dari model (subclass nn.module)\n",
    "model_0 = LinearReggressionModel()\n",
    "\n",
    "# cek parameter\n",
    "list(model_0.parameters())"
   ]
  },
  {
   "cell_type": "code",
   "execution_count": 46,
   "metadata": {},
   "outputs": [
    {
     "data": {
      "text/plain": [
       "OrderedDict([('weights', tensor([0.3367])), ('bias', tensor([0.1288]))])"
      ]
     },
     "execution_count": 46,
     "metadata": {},
     "output_type": "execute_result"
    }
   ],
   "source": [
    "# list named parameter\n",
    "model_0.state_dict()"
   ]
  },
  {
   "cell_type": "markdown",
   "metadata": {},
   "source": [
    "### buat prediksi tanpa training, ini bisa di pytorch tidak di tensorflow\n",
    "\n",
    "cek predictive power dari model tersebut, prediksi y_test berdasarkan x_test\n",
    "\n",
    "pass data lewat model kita, lewat method foward"
   ]
  },
  {
   "cell_type": "code",
   "execution_count": 47,
   "metadata": {},
   "outputs": [
    {
     "data": {
      "text/plain": [
       "tensor([[0.3982],\n",
       "        [0.4049],\n",
       "        [0.4116],\n",
       "        [0.4184],\n",
       "        [0.4251],\n",
       "        [0.4318],\n",
       "        [0.4386],\n",
       "        [0.4453],\n",
       "        [0.4520],\n",
       "        [0.4588]])"
      ]
     },
     "execution_count": 47,
     "metadata": {},
     "output_type": "execute_result"
    }
   ],
   "source": [
    "# make prediksi with model\n",
    "\n",
    "with torch.inference_mode():\n",
    "    y_preds = model_0(X_test)\n",
    "\n",
    "y_preds"
   ]
  },
  {
   "cell_type": "code",
   "execution_count": 36,
   "metadata": {},
   "outputs": [
    {
     "data": {
      "text/plain": [
       "tensor([[0.8600],\n",
       "        [0.8740],\n",
       "        [0.8880],\n",
       "        [0.9020],\n",
       "        [0.9160],\n",
       "        [0.9300],\n",
       "        [0.9440],\n",
       "        [0.9580],\n",
       "        [0.9720],\n",
       "        [0.9860]])"
      ]
     },
     "execution_count": 36,
     "metadata": {},
     "output_type": "execute_result"
    }
   ],
   "source": [
    "Y_test"
   ]
  },
  {
   "cell_type": "code",
   "execution_count": 48,
   "metadata": {},
   "outputs": [
    {
     "data": {
      "image/png": "[encoded data removed]",
      "text/plain": [
       "<Figure size 1000x700 with 1 Axes>"
      ]
     },
     "metadata": {},
     "output_type": "display_data"
    }
   ],
   "source": [
    "plot_predictions(predictions=y_preds)"
   ]
  },
  {
   "cell_type": "markdown",
   "metadata": {},
   "source": [
    "hasilnya shocking wkwk"
   ]
  },
  {
   "cell_type": "markdown",
   "metadata": {},
   "source": [
    "## 3. Train model\n",
    "\n",
    "ya model training lah ya, biar nilai prediksinya bagus\n",
    "\n",
    "pake loss function atau cost function atau criterion. buat ini bakalan di sebut loss function\n",
    "\n",
    "hal yang perlu di training\n",
    "* loss function\n",
    "* optimizer\n",
    "\n",
    "untuk training dibutuhkan\n",
    "* training loop\n",
    "* testing loop"
   ]
  },
  {
   "cell_type": "code",
   "execution_count": 49,
   "metadata": {},
   "outputs": [
    {
     "data": {
      "text/plain": [
       "[Parameter containing:\n",
       " tensor([0.3367], requires_grad=True),\n",
       " Parameter containing:\n",
       " tensor([0.1288], requires_grad=True)]"
      ]
     },
     "execution_count": 49,
     "metadata": {},
     "output_type": "execute_result"
    }
   ],
   "source": [
    "list(model_0.parameters())"
   ]
  },
  {
   "cell_type": "code",
   "execution_count": 50,
   "metadata": {},
   "outputs": [
    {
     "data": {
      "text/plain": [
       "OrderedDict([('weights', tensor([0.3367])), ('bias', tensor([0.1288]))])"
      ]
     },
     "execution_count": 50,
     "metadata": {},
     "output_type": "execute_result"
    }
   ],
   "source": [
    "model_0.state_dict()"
   ]
  },
  {
   "cell_type": "code",
   "execution_count": 51,
   "metadata": {},
   "outputs": [],
   "source": [
    "# setup a loss function\n",
    "loss_fn = nn.L1Loss()\n",
    "\n",
    "# setup an optimizer (pake SGD)\n",
    "optimizer = torch.optim.SGD(params=model_0.parameters(),\n",
    "                            lr=0.001)"
   ]
  },
  {
   "cell_type": "markdown",
   "metadata": {},
   "source": [
    "### Bikin Training Loop Pytorch dan testing loop\n",
    "\n",
    "beberapa yang dibutuhin untuk training loop:\n",
    "1. Loop through the data\n",
    "2. Foward pass (masukin data lewat forward func)\n",
    "3. calculate the loss (compare forward pass predictions to ground truth labels)\n",
    "4. optimizer zero grad\n",
    "5. loss backward - move backwards through the network to calculate the gradients of the parameter from our model with respect to the loss (Backpropagation)\n",
    "6. optimizer step - use optimizer for improve the loss (gradient descent)"
   ]
  },
  {
   "cell_type": "code",
   "execution_count": 66,
   "metadata": {},
   "outputs": [
    {
     "name": "stdout",
     "output_type": "stream",
     "text": [
      "Epoch: 0 | Loss: 0.02435956709086895 | Test Loss: 0.05690721794962883\n",
      "OrderedDict([('weights', tensor([0.5790])), ('bias', tensor([0.3508]))])\n",
      "Epoch: 10 | Loss: 0.024016480892896652 | Test Loss: 0.05607985332608223\n",
      "OrderedDict([('weights', tensor([0.5807])), ('bias', tensor([0.3501]))])\n",
      "Epoch: 20 | Loss: 0.02367258258163929 | Test Loss: 0.055252473801374435\n",
      "OrderedDict([('weights', tensor([0.5824])), ('bias', tensor([0.3494]))])\n",
      "Epoch: 30 | Loss: 0.023329313844442368 | Test Loss: 0.054493773728609085\n",
      "OrderedDict([('weights', tensor([0.5841])), ('bias', tensor([0.3487]))])\n",
      "Epoch: 40 | Loss: 0.022986043244600296 | Test Loss: 0.05366641283035278\n",
      "OrderedDict([('weights', tensor([0.5858])), ('bias', tensor([0.3480]))])\n",
      "Epoch: 50 | Loss: 0.022642139345407486 | Test Loss: 0.05283904820680618\n",
      "OrderedDict([('weights', tensor([0.5875])), ('bias', tensor([0.3473]))])\n",
      "Epoch: 60 | Loss: 0.02229905314743519 | Test Loss: 0.05208033323287964\n",
      "OrderedDict([('weights', tensor([0.5892])), ('bias', tensor([0.3465]))])\n",
      "Epoch: 70 | Loss: 0.02195560745894909 | Test Loss: 0.05125296115875244\n",
      "OrderedDict([('weights', tensor([0.5909])), ('bias', tensor([0.3458]))])\n",
      "Epoch: 80 | Loss: 0.021611705422401428 | Test Loss: 0.05042559653520584\n",
      "OrderedDict([('weights', tensor([0.5927])), ('bias', tensor([0.3451]))])\n",
      "Epoch: 90 | Loss: 0.021268798038363457 | Test Loss: 0.0496668815612793\n",
      "OrderedDict([('weights', tensor([0.5944])), ('bias', tensor([0.3444]))])\n",
      "Epoch: 100 | Loss: 0.02092517353594303 | Test Loss: 0.0488395169377327\n",
      "OrderedDict([('weights', tensor([0.5961])), ('bias', tensor([0.3437]))])\n",
      "Epoch: 110 | Loss: 0.020581401884555817 | Test Loss: 0.04808080196380615\n",
      "OrderedDict([('weights', tensor([0.5978])), ('bias', tensor([0.3429]))])\n",
      "Epoch: 120 | Loss: 0.020238537341356277 | Test Loss: 0.047253452241420746\n",
      "OrderedDict([('weights', tensor([0.5995])), ('bias', tensor([0.3422]))])\n",
      "Epoch: 130 | Loss: 0.019894743338227272 | Test Loss: 0.04642607644200325\n",
      "OrderedDict([('weights', tensor([0.6012])), ('bias', tensor([0.3415]))])\n",
      "Epoch: 140 | Loss: 0.019551146775484085 | Test Loss: 0.0456673689186573\n",
      "OrderedDict([('weights', tensor([0.6029])), ('bias', tensor([0.3408]))])\n",
      "Epoch: 150 | Loss: 0.019208211451768875 | Test Loss: 0.04483998939394951\n",
      "OrderedDict([('weights', tensor([0.6046])), ('bias', tensor([0.3401]))])\n",
      "Epoch: 160 | Loss: 0.018864300101995468 | Test Loss: 0.044012635946273804\n",
      "OrderedDict([('weights', tensor([0.6063])), ('bias', tensor([0.3394]))])\n",
      "Epoch: 170 | Loss: 0.018520886078476906 | Test Loss: 0.04325391724705696\n",
      "OrderedDict([('weights', tensor([0.6080])), ('bias', tensor([0.3386]))])\n",
      "Epoch: 180 | Loss: 0.01817776821553707 | Test Loss: 0.04242655634880066\n",
      "OrderedDict([('weights', tensor([0.6097])), ('bias', tensor([0.3379]))])\n",
      "Epoch: 190 | Loss: 0.01783386431634426 | Test Loss: 0.04159919545054436\n",
      "OrderedDict([('weights', tensor([0.6115])), ('bias', tensor([0.3372]))])\n",
      "Epoch: 200 | Loss: 0.017490629106760025 | Test Loss: 0.04084048420190811\n",
      "OrderedDict([('weights', tensor([0.6131])), ('bias', tensor([0.3365]))])\n",
      "Epoch: 210 | Loss: 0.017147328704595566 | Test Loss: 0.040013112127780914\n",
      "OrderedDict([('weights', tensor([0.6149])), ('bias', tensor([0.3358]))])\n",
      "Epoch: 220 | Loss: 0.016803432255983353 | Test Loss: 0.03918575122952461\n",
      "OrderedDict([('weights', tensor([0.6166])), ('bias', tensor([0.3351]))])\n",
      "Epoch: 230 | Loss: 0.016460370272397995 | Test Loss: 0.03842703625559807\n",
      "OrderedDict([('weights', tensor([0.6183])), ('bias', tensor([0.3343]))])\n",
      "Epoch: 240 | Loss: 0.016116898506879807 | Test Loss: 0.03759966418147087\n",
      "OrderedDict([('weights', tensor([0.6200])), ('bias', tensor([0.3336]))])\n",
      "Epoch: 250 | Loss: 0.015772998332977295 | Test Loss: 0.036772288382053375\n",
      "OrderedDict([('weights', tensor([0.6217])), ('bias', tensor([0.3329]))])\n",
      "Epoch: 260 | Loss: 0.01543011236935854 | Test Loss: 0.03601359575986862\n",
      "OrderedDict([('weights', tensor([0.6234])), ('bias', tensor([0.3322]))])\n",
      "Epoch: 270 | Loss: 0.015086461789906025 | Test Loss: 0.03518623113632202\n",
      "OrderedDict([('weights', tensor([0.6251])), ('bias', tensor([0.3315]))])\n",
      "Epoch: 280 | Loss: 0.014742719009518623 | Test Loss: 0.03442750498652458\n",
      "OrderedDict([('weights', tensor([0.6268])), ('bias', tensor([0.3307]))])\n",
      "Epoch: 290 | Loss: 0.014399850741028786 | Test Loss: 0.03360014408826828\n",
      "OrderedDict([('weights', tensor([0.6285])), ('bias', tensor([0.3300]))])\n",
      "Epoch: 300 | Loss: 0.014056024141609669 | Test Loss: 0.03277278691530228\n",
      "OrderedDict([('weights', tensor([0.6302])), ('bias', tensor([0.3293]))])\n",
      "Epoch: 310 | Loss: 0.013712462969124317 | Test Loss: 0.03201407939195633\n",
      "OrderedDict([('weights', tensor([0.6319])), ('bias', tensor([0.3286]))])\n",
      "Epoch: 320 | Loss: 0.013369491323828697 | Test Loss: 0.031186699867248535\n",
      "OrderedDict([('weights', tensor([0.6337])), ('bias', tensor([0.3279]))])\n",
      "Epoch: 330 | Loss: 0.01302559394389391 | Test Loss: 0.030359338968992233\n",
      "OrderedDict([('weights', tensor([0.6354])), ('bias', tensor([0.3272]))])\n",
      "Epoch: 340 | Loss: 0.012682202272117138 | Test Loss: 0.029600614681839943\n",
      "OrderedDict([('weights', tensor([0.6371])), ('bias', tensor([0.3264]))])\n",
      "Epoch: 350 | Loss: 0.012339059263467789 | Test Loss: 0.028773266822099686\n",
      "OrderedDict([('weights', tensor([0.6388])), ('bias', tensor([0.3257]))])\n",
      "Epoch: 360 | Loss: 0.011995160952210426 | Test Loss: 0.02794589474797249\n",
      "OrderedDict([('weights', tensor([0.6405])), ('bias', tensor([0.3250]))])\n",
      "Epoch: 370 | Loss: 0.011651946231722832 | Test Loss: 0.02718718722462654\n",
      "OrderedDict([('weights', tensor([0.6422])), ('bias', tensor([0.3243]))])\n",
      "Epoch: 380 | Loss: 0.011308628134429455 | Test Loss: 0.026359815150499344\n",
      "OrderedDict([('weights', tensor([0.6439])), ('bias', tensor([0.3236]))])\n",
      "Epoch: 390 | Loss: 0.010964717715978622 | Test Loss: 0.025532448664307594\n",
      "OrderedDict([('weights', tensor([0.6456])), ('bias', tensor([0.3229]))])\n",
      "Epoch: 400 | Loss: 0.010621682740747929 | Test Loss: 0.0247737355530262\n",
      "OrderedDict([('weights', tensor([0.6473])), ('bias', tensor([0.3221]))])\n",
      "Epoch: 410 | Loss: 0.010278185829520226 | Test Loss: 0.023946374654769897\n",
      "OrderedDict([('weights', tensor([0.6490])), ('bias', tensor([0.3214]))])\n",
      "Epoch: 420 | Loss: 0.009934291243553162 | Test Loss: 0.023187648504972458\n",
      "OrderedDict([('weights', tensor([0.6507])), ('bias', tensor([0.3207]))])\n",
      "Epoch: 430 | Loss: 0.009591431356966496 | Test Loss: 0.0223603006452322\n",
      "OrderedDict([('weights', tensor([0.6525])), ('bias', tensor([0.3200]))])\n",
      "Epoch: 440 | Loss: 0.00924774818122387 | Test Loss: 0.021532922983169556\n",
      "OrderedDict([('weights', tensor([0.6542])), ('bias', tensor([0.3193]))])\n",
      "Epoch: 450 | Loss: 0.008904037065804005 | Test Loss: 0.020774226635694504\n",
      "OrderedDict([('weights', tensor([0.6559])), ('bias', tensor([0.3185]))])\n",
      "Epoch: 460 | Loss: 0.008561169728636742 | Test Loss: 0.019946854561567307\n",
      "OrderedDict([('weights', tensor([0.6576])), ('bias', tensor([0.3178]))])\n",
      "Epoch: 470 | Loss: 0.008217317052185535 | Test Loss: 0.01911948248744011\n",
      "OrderedDict([('weights', tensor([0.6593])), ('bias', tensor([0.3171]))])\n",
      "Epoch: 480 | Loss: 0.007873778231441975 | Test Loss: 0.018360769376158714\n",
      "OrderedDict([('weights', tensor([0.6610])), ('bias', tensor([0.3164]))])\n",
      "Epoch: 490 | Loss: 0.0075307851657271385 | Test Loss: 0.01753341034054756\n",
      "OrderedDict([('weights', tensor([0.6627])), ('bias', tensor([0.3157]))])\n",
      "Epoch: 500 | Loss: 0.007186878472566605 | Test Loss: 0.01670604944229126\n",
      "OrderedDict([('weights', tensor([0.6644])), ('bias', tensor([0.3150]))])\n",
      "Epoch: 510 | Loss: 0.006843519397079945 | Test Loss: 0.01594732329249382\n",
      "OrderedDict([('weights', tensor([0.6661])), ('bias', tensor([0.3142]))])\n",
      "Epoch: 520 | Loss: 0.006500349845737219 | Test Loss: 0.015119964256882668\n",
      "OrderedDict([('weights', tensor([0.6678])), ('bias', tensor([0.3135]))])\n",
      "Epoch: 530 | Loss: 0.006156443618237972 | Test Loss: 0.014292603358626366\n",
      "OrderedDict([('weights', tensor([0.6695])), ('bias', tensor([0.3128]))])\n",
      "Epoch: 540 | Loss: 0.005813261028379202 | Test Loss: 0.013533895835280418\n",
      "OrderedDict([('weights', tensor([0.6712])), ('bias', tensor([0.3121]))])\n",
      "Epoch: 550 | Loss: 0.005469909869134426 | Test Loss: 0.012706518173217773\n",
      "OrderedDict([('weights', tensor([0.6730])), ('bias', tensor([0.3114]))])\n",
      "Epoch: 560 | Loss: 0.0051260096952319145 | Test Loss: 0.011879158206284046\n",
      "OrderedDict([('weights', tensor([0.6747])), ('bias', tensor([0.3107]))])\n",
      "Epoch: 570 | Loss: 0.004782737232744694 | Test Loss: 0.011086148209869862\n",
      "OrderedDict([('weights', tensor([0.6764])), ('bias', tensor([0.3099]))])\n",
      "Epoch: 580 | Loss: 0.004439301788806915 | Test Loss: 0.010327416472136974\n",
      "OrderedDict([('weights', tensor([0.6781])), ('bias', tensor([0.3092]))])\n",
      "Epoch: 590 | Loss: 0.004096207674592733 | Test Loss: 0.0095000509172678\n",
      "OrderedDict([('weights', tensor([0.6798])), ('bias', tensor([0.3085]))])\n",
      "Epoch: 600 | Loss: 0.003752306802198291 | Test Loss: 0.008672690019011497\n",
      "OrderedDict([('weights', tensor([0.6815])), ('bias', tensor([0.3078]))])\n",
      "Epoch: 610 | Loss: 0.0034090480767190456 | Test Loss: 0.007913952693343163\n",
      "OrderedDict([('weights', tensor([0.6832])), ('bias', tensor([0.3070]))])\n",
      "Epoch: 620 | Loss: 0.0030657730530947447 | Test Loss: 0.007086604833602905\n",
      "OrderedDict([('weights', tensor([0.6849])), ('bias', tensor([0.3063]))])\n",
      "Epoch: 630 | Loss: 0.0027218691539019346 | Test Loss: 0.006259244866669178\n",
      "OrderedDict([('weights', tensor([0.6866])), ('bias', tensor([0.3056]))])\n",
      "Epoch: 640 | Loss: 0.0023787864483892918 | Test Loss: 0.005500525236129761\n",
      "OrderedDict([('weights', tensor([0.6883])), ('bias', tensor([0.3049]))])\n",
      "Epoch: 650 | Loss: 0.002035337733104825 | Test Loss: 0.004673170857131481\n",
      "OrderedDict([('weights', tensor([0.6900])), ('bias', tensor([0.3042]))])\n",
      "Epoch: 660 | Loss: 0.0016914367442950606 | Test Loss: 0.0038457990158349276\n",
      "OrderedDict([('weights', tensor([0.6918])), ('bias', tensor([0.3035]))])\n",
      "Epoch: 670 | Loss: 0.0013485297095030546 | Test Loss: 0.0030870854388922453\n",
      "OrderedDict([('weights', tensor([0.6935])), ('bias', tensor([0.3027]))])\n",
      "Epoch: 680 | Loss: 0.0010049014817923307 | Test Loss: 0.002259713364765048\n",
      "OrderedDict([('weights', tensor([0.6952])), ('bias', tensor([0.3020]))])\n",
      "Epoch: 690 | Loss: 0.0006616368773393333 | Test Loss: 0.0014667033683508635\n",
      "OrderedDict([('weights', tensor([0.6969])), ('bias', tensor([0.3013]))])\n",
      "Epoch: 700 | Loss: 0.0003177322505507618 | Test Loss: 0.0006393313524313271\n",
      "OrderedDict([('weights', tensor([0.6986])), ('bias', tensor([0.3006]))])\n",
      "Epoch: 710 | Loss: 0.0004444979131221771 | Test Loss: 0.0005780101055279374\n",
      "OrderedDict([('weights', tensor([0.6997])), ('bias', tensor([0.3008]))])\n",
      "Epoch: 720 | Loss: 0.0004444979131221771 | Test Loss: 0.0005780101055279374\n",
      "OrderedDict([('weights', tensor([0.6997])), ('bias', tensor([0.3008]))])\n",
      "Epoch: 730 | Loss: 0.0004444979131221771 | Test Loss: 0.0005780101055279374\n",
      "OrderedDict([('weights', tensor([0.6997])), ('bias', tensor([0.3008]))])\n",
      "Epoch: 740 | Loss: 0.0004444979131221771 | Test Loss: 0.0005780101055279374\n",
      "OrderedDict([('weights', tensor([0.6997])), ('bias', tensor([0.3008]))])\n",
      "Epoch: 750 | Loss: 0.0004444979131221771 | Test Loss: 0.0005780101055279374\n",
      "OrderedDict([('weights', tensor([0.6997])), ('bias', tensor([0.3008]))])\n",
      "Epoch: 760 | Loss: 0.0004444979131221771 | Test Loss: 0.0005780101055279374\n",
      "OrderedDict([('weights', tensor([0.6997])), ('bias', tensor([0.3008]))])\n",
      "Epoch: 770 | Loss: 0.0004444979131221771 | Test Loss: 0.0005780101055279374\n",
      "OrderedDict([('weights', tensor([0.6997])), ('bias', tensor([0.3008]))])\n",
      "Epoch: 780 | Loss: 0.0004444979131221771 | Test Loss: 0.0005780101055279374\n",
      "OrderedDict([('weights', tensor([0.6997])), ('bias', tensor([0.3008]))])\n",
      "Epoch: 790 | Loss: 0.0004444979131221771 | Test Loss: 0.0005780101055279374\n",
      "OrderedDict([('weights', tensor([0.6997])), ('bias', tensor([0.3008]))])\n",
      "Epoch: 800 | Loss: 0.0004444979131221771 | Test Loss: 0.0005780101055279374\n",
      "OrderedDict([('weights', tensor([0.6997])), ('bias', tensor([0.3008]))])\n",
      "Epoch: 810 | Loss: 0.0004444979131221771 | Test Loss: 0.0005780101055279374\n",
      "OrderedDict([('weights', tensor([0.6997])), ('bias', tensor([0.3008]))])\n",
      "Epoch: 820 | Loss: 0.0004444979131221771 | Test Loss: 0.0005780101055279374\n",
      "OrderedDict([('weights', tensor([0.6997])), ('bias', tensor([0.3008]))])\n",
      "Epoch: 830 | Loss: 0.0004444979131221771 | Test Loss: 0.0005780101055279374\n",
      "OrderedDict([('weights', tensor([0.6997])), ('bias', tensor([0.3008]))])\n",
      "Epoch: 840 | Loss: 0.0004444979131221771 | Test Loss: 0.0005780101055279374\n",
      "OrderedDict([('weights', tensor([0.6997])), ('bias', tensor([0.3008]))])\n",
      "Epoch: 850 | Loss: 0.0004444979131221771 | Test Loss: 0.0005780101055279374\n",
      "OrderedDict([('weights', tensor([0.6997])), ('bias', tensor([0.3008]))])\n",
      "Epoch: 860 | Loss: 0.0004444979131221771 | Test Loss: 0.0005780101055279374\n",
      "OrderedDict([('weights', tensor([0.6997])), ('bias', tensor([0.3008]))])\n",
      "Epoch: 870 | Loss: 0.0004444979131221771 | Test Loss: 0.0005780101055279374\n",
      "OrderedDict([('weights', tensor([0.6997])), ('bias', tensor([0.3008]))])\n",
      "Epoch: 880 | Loss: 0.0004444979131221771 | Test Loss: 0.0005780101055279374\n",
      "OrderedDict([('weights', tensor([0.6997])), ('bias', tensor([0.3008]))])\n",
      "Epoch: 890 | Loss: 0.0004444979131221771 | Test Loss: 0.0005780101055279374\n",
      "OrderedDict([('weights', tensor([0.6997])), ('bias', tensor([0.3008]))])\n",
      "Epoch: 900 | Loss: 0.0004444979131221771 | Test Loss: 0.0005780101055279374\n",
      "OrderedDict([('weights', tensor([0.6997])), ('bias', tensor([0.3008]))])\n",
      "Epoch: 910 | Loss: 0.0004444979131221771 | Test Loss: 0.0005780101055279374\n",
      "OrderedDict([('weights', tensor([0.6997])), ('bias', tensor([0.3008]))])\n",
      "Epoch: 920 | Loss: 0.0004444979131221771 | Test Loss: 0.0005780101055279374\n",
      "OrderedDict([('weights', tensor([0.6997])), ('bias', tensor([0.3008]))])\n",
      "Epoch: 930 | Loss: 0.0004444979131221771 | Test Loss: 0.0005780101055279374\n",
      "OrderedDict([('weights', tensor([0.6997])), ('bias', tensor([0.3008]))])\n",
      "Epoch: 940 | Loss: 0.0004444979131221771 | Test Loss: 0.0005780101055279374\n",
      "OrderedDict([('weights', tensor([0.6997])), ('bias', tensor([0.3008]))])\n",
      "Epoch: 950 | Loss: 0.0004444979131221771 | Test Loss: 0.0005780101055279374\n",
      "OrderedDict([('weights', tensor([0.6997])), ('bias', tensor([0.3008]))])\n",
      "Epoch: 960 | Loss: 0.0004444979131221771 | Test Loss: 0.0005780101055279374\n",
      "OrderedDict([('weights', tensor([0.6997])), ('bias', tensor([0.3008]))])\n",
      "Epoch: 970 | Loss: 0.0004444979131221771 | Test Loss: 0.0005780101055279374\n",
      "OrderedDict([('weights', tensor([0.6997])), ('bias', tensor([0.3008]))])\n",
      "Epoch: 980 | Loss: 0.0004444979131221771 | Test Loss: 0.0005780101055279374\n",
      "OrderedDict([('weights', tensor([0.6997])), ('bias', tensor([0.3008]))])\n",
      "Epoch: 990 | Loss: 0.0004444979131221771 | Test Loss: 0.0005780101055279374\n",
      "OrderedDict([('weights', tensor([0.6997])), ('bias', tensor([0.3008]))])\n"
     ]
    }
   ],
   "source": [
    "torch.manual_seed(42)\n",
    "# epoch adalah looping through the data, epochs adalah hyperparameter\n",
    "epochs = 1000\n",
    "\n",
    "# track \n",
    "epoch_count = []\n",
    "loss_values = []\n",
    "test_loss_values = []\n",
    "\n",
    "## training\n",
    "# 1. loop through the data\n",
    "for epoch in range(epochs):\n",
    "    # set the model to training mode\n",
    "    model_0.train() # train mode in pytorch set all parameters that require gradients\n",
    "    # 2. forward pass\n",
    "    y_pred = model_0(X_train)\n",
    "    # 3. calculate loss\n",
    "    loss = loss_fn(y_pred, Y_train)\n",
    "    # 4. optimizer zero grad\n",
    "    optimizer.zero_grad()\n",
    "    # 5. perform backpropagation on the loss with respect to the parameter of the model\n",
    "    loss.backward()\n",
    "    # 6. step the optimizer untuk perform gradient descent\n",
    "    optimizer.step()\n",
    "\n",
    "    ## testing code\n",
    "    model_0.eval()\n",
    "    with torch.inference_mode():\n",
    "        # 1. forward pass\n",
    "        test_pred = model_0(X_test)\n",
    "        # 2. calculate loss\n",
    "        test_loss = loss_fn(test_pred, Y_test)\n",
    "        \n",
    "    #print semua biar tau\n",
    "    if epoch % 10 == 0:\n",
    "        epoch_count.append(epoch)\n",
    "        loss_values.append(loss)\n",
    "        test_loss_values.append(test_loss)\n",
    "        print(f\"Epoch: {epoch} | Loss: {loss} | Test Loss: {test_loss}\")\n",
    "        print(model_0.state_dict())"
   ]
  },
  {
   "cell_type": "code",
   "execution_count": 67,
   "metadata": {},
   "outputs": [
    {
     "data": {
      "image/png": "[encoded data removed]",
      "text/plain": [
       "<Figure size 1000x700 with 1 Axes>"
      ]
     },
     "metadata": {},
     "output_type": "display_data"
    }
   ],
   "source": [
    "plot_predictions(predictions=y_preds)"
   ]
  },
  {
   "cell_type": "code",
   "execution_count": 69,
   "metadata": {},
   "outputs": [],
   "source": [
    "with torch.inference_mode():\n",
    "    y_preds_new = model_0(X_test)"
   ]
  },
  {
   "cell_type": "code",
   "execution_count": 70,
   "metadata": {},
   "outputs": [
    {
     "data": {
      "image/png": "[encoded data removed]",
      "text/plain": [
       "<Figure size 1000x700 with 1 Axes>"
      ]
     },
     "metadata": {},
     "output_type": "display_data"
    }
   ],
   "source": [
    "plot_predictions(predictions=y_preds_new)"
   ]
  },
  {
   "cell_type": "code",
   "execution_count": 71,
   "metadata": {},
   "outputs": [],
   "source": [
    "import numpy as np"
   ]
  },
  {
   "cell_type": "code",
   "execution_count": 72,
   "metadata": {},
   "outputs": [
    {
     "data": {
      "text/plain": [
       "(array([0.02435957, 0.02401648, 0.02367258, 0.02332931, 0.02298604,\n",
       "        0.02264214, 0.02229905, 0.02195561, 0.02161171, 0.0212688 ,\n",
       "        0.02092517, 0.0205814 , 0.02023854, 0.01989474, 0.01955115,\n",
       "        0.01920821, 0.0188643 , 0.01852089, 0.01817777, 0.01783386,\n",
       "        0.01749063, 0.01714733, 0.01680343, 0.01646037, 0.0161169 ,\n",
       "        0.015773  , 0.01543011, 0.01508646, 0.01474272, 0.01439985,\n",
       "        0.01405602, 0.01371246, 0.01336949, 0.01302559, 0.0126822 ,\n",
       "        0.01233906, 0.01199516, 0.01165195, 0.01130863, 0.01096472,\n",
       "        0.01062168, 0.01027819, 0.00993429, 0.00959143, 0.00924775,\n",
       "        0.00890404, 0.00856117, 0.00821732, 0.00787378, 0.00753079,\n",
       "        0.00718688, 0.00684352, 0.00650035, 0.00615644, 0.00581326,\n",
       "        0.00546991, 0.00512601, 0.00478274, 0.0044393 , 0.00409621,\n",
       "        0.00375231, 0.00340905, 0.00306577, 0.00272187, 0.00237879,\n",
       "        0.00203534, 0.00169144, 0.00134853, 0.0010049 , 0.00066164,\n",
       "        0.00031773, 0.0004445 , 0.0004445 , 0.0004445 , 0.0004445 ,\n",
       "        0.0004445 , 0.0004445 , 0.0004445 , 0.0004445 , 0.0004445 ,\n",
       "        0.0004445 , 0.0004445 , 0.0004445 , 0.0004445 , 0.0004445 ,\n",
       "        0.0004445 , 0.0004445 , 0.0004445 , 0.0004445 , 0.0004445 ,\n",
       "        0.0004445 , 0.0004445 , 0.0004445 , 0.0004445 , 0.0004445 ,\n",
       "        0.0004445 , 0.0004445 , 0.0004445 , 0.0004445 , 0.0004445 ],\n",
       "       dtype=float32),\n",
       " [tensor(0.0569),\n",
       "  tensor(0.0561),\n",
       "  tensor(0.0553),\n",
       "  tensor(0.0545),\n",
       "  tensor(0.0537),\n",
       "  tensor(0.0528),\n",
       "  tensor(0.0521),\n",
       "  tensor(0.0513),\n",
       "  tensor(0.0504),\n",
       "  tensor(0.0497),\n",
       "  tensor(0.0488),\n",
       "  tensor(0.0481),\n",
       "  tensor(0.0473),\n",
       "  tensor(0.0464),\n",
       "  tensor(0.0457),\n",
       "  tensor(0.0448),\n",
       "  tensor(0.0440),\n",
       "  tensor(0.0433),\n",
       "  tensor(0.0424),\n",
       "  tensor(0.0416),\n",
       "  tensor(0.0408),\n",
       "  tensor(0.0400),\n",
       "  tensor(0.0392),\n",
       "  tensor(0.0384),\n",
       "  tensor(0.0376),\n",
       "  tensor(0.0368),\n",
       "  tensor(0.0360),\n",
       "  tensor(0.0352),\n",
       "  tensor(0.0344),\n",
       "  tensor(0.0336),\n",
       "  tensor(0.0328),\n",
       "  tensor(0.0320),\n",
       "  tensor(0.0312),\n",
       "  tensor(0.0304),\n",
       "  tensor(0.0296),\n",
       "  tensor(0.0288),\n",
       "  tensor(0.0279),\n",
       "  tensor(0.0272),\n",
       "  tensor(0.0264),\n",
       "  tensor(0.0255),\n",
       "  tensor(0.0248),\n",
       "  tensor(0.0239),\n",
       "  tensor(0.0232),\n",
       "  tensor(0.0224),\n",
       "  tensor(0.0215),\n",
       "  tensor(0.0208),\n",
       "  tensor(0.0199),\n",
       "  tensor(0.0191),\n",
       "  tensor(0.0184),\n",
       "  tensor(0.0175),\n",
       "  tensor(0.0167),\n",
       "  tensor(0.0159),\n",
       "  tensor(0.0151),\n",
       "  tensor(0.0143),\n",
       "  tensor(0.0135),\n",
       "  tensor(0.0127),\n",
       "  tensor(0.0119),\n",
       "  tensor(0.0111),\n",
       "  tensor(0.0103),\n",
       "  tensor(0.0095),\n",
       "  tensor(0.0087),\n",
       "  tensor(0.0079),\n",
       "  tensor(0.0071),\n",
       "  tensor(0.0063),\n",
       "  tensor(0.0055),\n",
       "  tensor(0.0047),\n",
       "  tensor(0.0038),\n",
       "  tensor(0.0031),\n",
       "  tensor(0.0023),\n",
       "  tensor(0.0015),\n",
       "  tensor(0.0006),\n",
       "  tensor(0.0006),\n",
       "  tensor(0.0006),\n",
       "  tensor(0.0006),\n",
       "  tensor(0.0006),\n",
       "  tensor(0.0006),\n",
       "  tensor(0.0006),\n",
       "  tensor(0.0006),\n",
       "  tensor(0.0006),\n",
       "  tensor(0.0006),\n",
       "  tensor(0.0006),\n",
       "  tensor(0.0006),\n",
       "  tensor(0.0006),\n",
       "  tensor(0.0006),\n",
       "  tensor(0.0006),\n",
       "  tensor(0.0006),\n",
       "  tensor(0.0006),\n",
       "  tensor(0.0006),\n",
       "  tensor(0.0006),\n",
       "  tensor(0.0006),\n",
       "  tensor(0.0006),\n",
       "  tensor(0.0006),\n",
       "  tensor(0.0006),\n",
       "  tensor(0.0006),\n",
       "  tensor(0.0006),\n",
       "  tensor(0.0006),\n",
       "  tensor(0.0006),\n",
       "  tensor(0.0006),\n",
       "  tensor(0.0006),\n",
       "  tensor(0.0006)])"
      ]
     },
     "execution_count": 72,
     "metadata": {},
     "output_type": "execute_result"
    }
   ],
   "source": [
    "np.array(torch.tensor(loss_values).numpy()), test_loss_values"
   ]
  },
  {
   "cell_type": "code",
   "execution_count": 73,
   "metadata": {},
   "outputs": [
    {
     "data": {
      "image/png": "[encoded data removed]",
      "text/plain": [
       "<Figure size 640x480 with 1 Axes>"
      ]
     },
     "metadata": {},
     "output_type": "display_data"
    }
   ],
   "source": [
    "# plot the loss curves\n",
    "plt.plot(epoch_count, np.array(torch.tensor(loss_values).numpy()), label=\"Train Loss\")\n",
    "plt.plot(epoch_count, test_loss_values, label=\"Test Loss\")\n",
    "plt.title(\"Training and test loss curves\")\n",
    "plt.ylabel(\"Loss\")\n",
    "plt.xlabel(\"Epochs\")\n",
    "plt.legend();"
   ]
  }
 ],
 "metadata": {
  "kernelspec": {
   "display_name": "Python 3 (ipykernel)",
   "language": "python",
   "name": "python3"
  },
  "language_info": {
   "codemirror_mode": {
    "name": "ipython",
    "version": 3
   },
   "file_extension": ".py",
   "mimetype": "text/x-python",
   "name": "python",
   "nbconvert_exporter": "python",
   "pygments_lexer": "ipython3",
   "version": "3.10.11"
  }
 },
 "nbformat": 4,
 "nbformat_minor": 4
}
