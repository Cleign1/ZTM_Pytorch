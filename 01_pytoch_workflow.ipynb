{
 "cells": [
  {
   "cell_type": "code",
   "execution_count": 1,
   "metadata": {},
   "outputs": [],
   "source": [
    "import torch"
   ]
  },
  {
   "cell_type": "code",
   "execution_count": 2,
   "metadata": {
    "editable": true,
    "slideshow": {
     "slide_type": ""
    },
    "tags": []
   },
   "outputs": [
    {
     "data": {
      "text/plain": [
       "True"
      ]
     },
     "execution_count": 2,
     "metadata": {},
     "output_type": "execute_result"
    }
   ],
   "source": [
    "torch.cuda.is_available()"
   ]
  },
  {
   "cell_type": "markdown",
   "metadata": {},
   "source": [
    "# Pytorch Workflow\n",
    "\n",
    "exploring [pytorch](https://pytorch.org)\n",
    "from udemy course pytoch for Deep Learning Bootcamp"
   ]
  },
  {
   "cell_type": "code",
   "execution_count": 3,
   "metadata": {},
   "outputs": [
    {
     "data": {
      "text/plain": [
       "{1: 'data (preparing and loading)',\n",
       " 2: 'build Model',\n",
       " 3: 'training model or fitting the model to the data',\n",
       " 4: 'make predictions and evaluating and a model',\n",
       " 5: 'save and load model',\n",
       " 6: 'putting it all together'}"
      ]
     },
     "execution_count": 3,
     "metadata": {},
     "output_type": "execute_result"
    }
   ],
   "source": [
    "what_is_covered = {1: \"data (preparing and loading)\",\n",
    "                   2: \"build Model\",\n",
    "                   3: \"training model or fitting the model to the data\",\n",
    "                   4: \"make predictions and evaluating and a model\", \n",
    "                   5: \"save and load model\", \n",
    "                   6: \"putting it all together\"}\n",
    "what_is_covered"
   ]
  },
  {
   "cell_type": "code",
   "execution_count": 4,
   "metadata": {},
   "outputs": [
    {
     "data": {
      "text/plain": [
       "'2.4.0+cu124'"
      ]
     },
     "execution_count": 4,
     "metadata": {},
     "output_type": "execute_result"
    }
   ],
   "source": [
    "## Neural Network\n",
    "\n",
    "from torch import nn\n",
    "import matplotlib.pyplot as plt\n",
    "\n",
    "torch.__version__"
   ]
  },
  {
   "cell_type": "markdown",
   "metadata": {},
   "source": [
    "## 1. Data (preparing and loading)\n",
    "\n",
    "data can be anything in machine learning\n",
    "\n",
    "most popular data\n",
    "* Excel spreadsheet\n",
    "* Images\n",
    "* Videos\n",
    "* Audio\n",
    "* Text\n",
    "\n",
    "Machine Learning is a game\n",
    "1. Get data into a numerical representation.\n",
    "2. build a model to learn patterns in the numerical rep.\n",
    "\n",
    "to showcase, lets create the following data using linear regression formula\n",
    "\n",
    "Y = a + bX"
   ]
  },
  {
   "cell_type": "code",
   "execution_count": 5,
   "metadata": {},
   "outputs": [
    {
     "data": {
      "text/plain": [
       "(tensor([[0.0000],\n",
       "         [0.0200],\n",
       "         [0.0400],\n",
       "         [0.0600],\n",
       "         [0.0800],\n",
       "         [0.1000],\n",
       "         [0.1200],\n",
       "         [0.1400],\n",
       "         [0.1600],\n",
       "         [0.1800]]),\n",
       " tensor([[0.3000],\n",
       "         [0.3140],\n",
       "         [0.3280],\n",
       "         [0.3420],\n",
       "         [0.3560],\n",
       "         [0.3700],\n",
       "         [0.3840],\n",
       "         [0.3980],\n",
       "         [0.4120],\n",
       "         [0.4260]]),\n",
       " 50,\n",
       " 50)"
      ]
     },
     "execution_count": 5,
     "metadata": {},
     "output_type": "execute_result"
    }
   ],
   "source": [
    "# Create known parameters\n",
    "\n",
    "weight  = 0.7\n",
    "bias = 0.3\n",
    "\n",
    "start = 0\n",
    "end = 1\n",
    "step = 0.02\n",
    "\n",
    "X = torch.arange(start, end, step).unsqueeze(dim=1)\n",
    "Y = weight * X + bias\n",
    "\n",
    "X[:10], Y[:10], len(X), len(Y)"
   ]
  },
  {
   "cell_type": "markdown",
   "metadata": {},
   "source": [
    "### Splitting data into training and test set\n",
    "\n",
    "create a training and test set with our data"
   ]
  },
  {
   "cell_type": "code",
   "execution_count": 6,
   "metadata": {},
   "outputs": [
    {
     "data": {
      "text/plain": [
       "(40, 40, 10, 10)"
      ]
     },
     "execution_count": 6,
     "metadata": {},
     "output_type": "execute_result"
    }
   ],
   "source": [
    "# create train/test split\n",
    "train_split = int(0.8 * len(X))\n",
    "X_train, Y_train = X[:train_split], Y[:train_split]\n",
    "X_test, Y_test = X[train_split:], Y[train_split:]\n",
    "\n",
    "len(X_train), len(Y_train), len(X_test), len(Y_test)"
   ]
  },
  {
   "cell_type": "markdown",
   "metadata": {},
   "source": [
    "Visualize data\n",
    "\n",
    "data explorer motto :\n",
    "visualize, visualize, visualize\n"
   ]
  },
  {
   "cell_type": "code",
   "execution_count": 7,
   "metadata": {},
   "outputs": [
    {
     "data": {
      "image/png": "[encoded data removed]",
      "text/plain": [
       "<Figure size 1000x700 with 1 Axes>"
      ]
     },
     "metadata": {},
     "output_type": "display_data"
    }
   ],
   "source": [
    "def plot_predictions(train_data=X_train,\n",
    "                    train_labels=Y_train,\n",
    "                    test_data=X_test,\n",
    "                    test_labels=Y_test,\n",
    "                    predictions=None):\n",
    "    \n",
    "    # set up plot\n",
    "    plt.figure(figsize=(10, 7))\n",
    "    \n",
    "    # plot training data in blue\n",
    "    plt.scatter(train_data, train_labels, c=\"b\", s=4, label=\"Training data\")\n",
    "    \n",
    "    #plot test data in green\n",
    "    plt.scatter(test_data, test_labels, c='g', s=4, label=\"Test Data\")\n",
    "\n",
    "    # apakah ada prediksi?\n",
    "    if predictions is not None:\n",
    "        # plot the predictions if they exist\n",
    "        plt.scatter(test_data, predictions, c='r', s=4, label=\"Predictions\")\n",
    "\n",
    "    # show legends\n",
    "    plt.legend(prop={\"size\":14})\n",
    "    plt.show()\n",
    "\n",
    "plot_predictions()"
   ]
  },
  {
   "cell_type": "markdown",
   "metadata": {},
   "source": [
    "## 2. Build Model\n",
    "\n",
    "first pytoch model\n",
    "\n",
    "what our model does:\n",
    "* start from random values (weight and bias)\n",
    "* look at training data and adjust the random values to better represent or get closer to the ideal values\n",
    "\n",
    "how does it do so?\n",
    "\n",
    "through two main algorithms:\n",
    "1. gradient descend\n",
    "2. backpropagation"
   ]
  },
  {
   "cell_type": "code",
   "execution_count": 8,
   "metadata": {},
   "outputs": [],
   "source": [
    "# Create a linear reggression model class\n",
    "import torch.nn as nn\n",
    "\n",
    "class LinearReggressionModel(nn.Module): # almost everything in Pytorch inherits nn.module\n",
    "    def __init__(self):\n",
    "        super().__init__()\n",
    "        self.weights = nn.Parameter(torch.randn(1, # start with random values\n",
    "                                                requires_grad=True,\n",
    "                                                dtype=torch.float))\n",
    "        self.bias = nn.Parameter(torch.randn(1, # started with random values\n",
    "                                            requires_grad=True,\n",
    "                                            dtype=torch.float))\n",
    "\n",
    "    # Foward untuk menjelaskan komputasi dalam model\n",
    "    def forward(self, x: torch.Tensor) -> torch.Tensor: # <- \"x\" adalah input data\n",
    "        return self.weights * x + self.bias"
   ]
  },
  {
   "cell_type": "markdown",
   "metadata": {},
   "source": [
    "### Pytorch model building essentials\n",
    "\n",
    "* torch.nn - all of computational neural networks\n",
    "* torch.nn.parameters - what parameters should our model try and learn, often pytorch layer from torch.nn\n",
    "* torch.nn.module - the base class for all neural network modules, if you subclass it, you should overwrite foward\n",
    "* torch.optim - pytorch optimizer, same as optimizer in tensorflow\n",
    "* def foward - all nn.modules subclasses require to overwrite foward, this defines what happens in the foward computation"
   ]
  },
  {
   "cell_type": "markdown",
   "metadata": {},
   "source": [
    "### cek model pytorch\n",
    "\n",
    "lihat isi dari model pytorch ini\n",
    "\n",
    "bisa cek parameter atau apa isi dari model pake .parameters()"
   ]
  },
  {
   "cell_type": "code",
   "execution_count": 9,
   "metadata": {},
   "outputs": [
    {
     "data": {
      "text/plain": [
       "[Parameter containing:\n",
       " tensor([0.3367], requires_grad=True),\n",
       " Parameter containing:\n",
       " tensor([0.1288], requires_grad=True)]"
      ]
     },
     "execution_count": 9,
     "metadata": {},
     "output_type": "execute_result"
    }
   ],
   "source": [
    "# create random seed\n",
    "torch.manual_seed(42)\n",
    "\n",
    "# create instance dari model (subclass nn.module)\n",
    "model_0 = LinearReggressionModel()\n",
    "\n",
    "# cek parameter\n",
    "list(model_0.parameters())"
   ]
  },
  {
   "cell_type": "code",
   "execution_count": 10,
   "metadata": {},
   "outputs": [
    {
     "data": {
      "text/plain": [
       "OrderedDict([('weights', tensor([0.3367])), ('bias', tensor([0.1288]))])"
      ]
     },
     "execution_count": 10,
     "metadata": {},
     "output_type": "execute_result"
    }
   ],
   "source": [
    "# list named parameter\n",
    "model_0.state_dict()"
   ]
  },
  {
   "cell_type": "markdown",
   "metadata": {},
   "source": [
    "### buat prediksi tanpa training, ini bisa di pytorch tidak di tensorflow\n",
    "\n",
    "cek predictive power dari model tersebut, prediksi y_test berdasarkan x_test\n",
    "\n",
    "pass data lewat model kita, lewat method foward"
   ]
  },
  {
   "cell_type": "code",
   "execution_count": 11,
   "metadata": {},
   "outputs": [
    {
     "data": {
      "text/plain": [
       "tensor([[0.3982],\n",
       "        [0.4049],\n",
       "        [0.4116],\n",
       "        [0.4184],\n",
       "        [0.4251],\n",
       "        [0.4318],\n",
       "        [0.4386],\n",
       "        [0.4453],\n",
       "        [0.4520],\n",
       "        [0.4588]])"
      ]
     },
     "execution_count": 11,
     "metadata": {},
     "output_type": "execute_result"
    }
   ],
   "source": [
    "# make prediksi with model\n",
    "\n",
    "with torch.inference_mode():\n",
    "    y_preds = model_0(X_test)\n",
    "\n",
    "y_preds"
   ]
  },
  {
   "cell_type": "code",
   "execution_count": 12,
   "metadata": {},
   "outputs": [
    {
     "data": {
      "text/plain": [
       "tensor([[0.8600],\n",
       "        [0.8740],\n",
       "        [0.8880],\n",
       "        [0.9020],\n",
       "        [0.9160],\n",
       "        [0.9300],\n",
       "        [0.9440],\n",
       "        [0.9580],\n",
       "        [0.9720],\n",
       "        [0.9860]])"
      ]
     },
     "execution_count": 12,
     "metadata": {},
     "output_type": "execute_result"
    }
   ],
   "source": [
    "Y_test"
   ]
  },
  {
   "cell_type": "code",
   "execution_count": 13,
   "metadata": {},
   "outputs": [
    {
     "data": {
      "image/png": "[encoded data removed]",
      "text/plain": [
       "<Figure size 1000x700 with 1 Axes>"
      ]
     },
     "metadata": {},
     "output_type": "display_data"
    }
   ],
   "source": [
    "plot_predictions(predictions=y_preds)"
   ]
  },
  {
   "cell_type": "markdown",
   "metadata": {},
   "source": [
    "hasilnya shocking wkwk"
   ]
  },
  {
   "cell_type": "markdown",
   "metadata": {},
   "source": [
    "## 3. Train model\n",
    "\n",
    "ya model training lah ya, biar nilai prediksinya bagus\n",
    "\n",
    "pake loss function atau cost function atau criterion. buat ini bakalan di sebut loss function\n",
    "\n",
    "hal yang perlu di training\n",
    "* loss function\n",
    "* optimizer\n",
    "\n",
    "untuk training dibutuhkan\n",
    "* training loop\n",
    "* testing loop"
   ]
  },
  {
   "cell_type": "code",
   "execution_count": 14,
   "metadata": {},
   "outputs": [
    {
     "data": {
      "text/plain": [
       "[Parameter containing:\n",
       " tensor([0.3367], requires_grad=True),\n",
       " Parameter containing:\n",
       " tensor([0.1288], requires_grad=True)]"
      ]
     },
     "execution_count": 14,
     "metadata": {},
     "output_type": "execute_result"
    }
   ],
   "source": [
    "list(model_0.parameters())"
   ]
  },
  {
   "cell_type": "code",
   "execution_count": 15,
   "metadata": {},
   "outputs": [
    {
     "data": {
      "text/plain": [
       "OrderedDict([('weights', tensor([0.3367])), ('bias', tensor([0.1288]))])"
      ]
     },
     "execution_count": 15,
     "metadata": {},
     "output_type": "execute_result"
    }
   ],
   "source": [
    "model_0.state_dict()"
   ]
  },
  {
   "cell_type": "code",
   "execution_count": 16,
   "metadata": {},
   "outputs": [],
   "source": [
    "# setup a loss function\n",
    "loss_fn = nn.L1Loss()\n",
    "\n",
    "# setup an optimizer (pake SGD)\n",
    "optimizer = torch.optim.SGD(params=model_0.parameters(),\n",
    "                            lr=0.001)"
   ]
  },
  {
   "cell_type": "markdown",
   "metadata": {},
   "source": [
    "### Bikin Training Loop Pytorch dan testing loop\n",
    "\n",
    "beberapa yang dibutuhin untuk training loop:\n",
    "1. Loop through the data\n",
    "2. Foward pass (masukin data lewat forward func)\n",
    "3. calculate the loss (compare forward pass predictions to ground truth labels)\n",
    "4. optimizer zero grad\n",
    "5. loss backward - move backwards through the network to calculate the gradients of the parameter from our model with respect to the loss (Backpropagation)\n",
    "6. optimizer step - use optimizer for improve the loss (gradient descent)"
   ]
  },
  {
   "cell_type": "code",
   "execution_count": 17,
   "metadata": {},
   "outputs": [
    {
     "name": "stdout",
     "output_type": "stream",
     "text": [
      "Epoch: 0 | Loss: 0.31288138031959534 | Test Loss: 0.4931890368461609\n",
      "OrderedDict([('weights', tensor([0.3371])), ('bias', tensor([0.1298]))])\n",
      "Epoch: 10 | Loss: 0.3013603389263153 | Test Loss: 0.4797181189060211\n",
      "OrderedDict([('weights', tensor([0.3410])), ('bias', tensor([0.1398]))])\n",
      "Epoch: 20 | Loss: 0.28983938694000244 | Test Loss: 0.4662471413612366\n",
      "OrderedDict([('weights', tensor([0.3449])), ('bias', tensor([0.1498]))])\n",
      "Epoch: 30 | Loss: 0.2783183455467224 | Test Loss: 0.4527761936187744\n",
      "OrderedDict([('weights', tensor([0.3488])), ('bias', tensor([0.1598]))])\n",
      "Epoch: 40 | Loss: 0.26679736375808716 | Test Loss: 0.43930521607398987\n",
      "OrderedDict([('weights', tensor([0.3527])), ('bias', tensor([0.1698]))])\n",
      "Epoch: 50 | Loss: 0.2552763819694519 | Test Loss: 0.4258342385292053\n",
      "OrderedDict([('weights', tensor([0.3566])), ('bias', tensor([0.1798]))])\n",
      "Epoch: 60 | Loss: 0.24375538527965546 | Test Loss: 0.41236335039138794\n",
      "OrderedDict([('weights', tensor([0.3605])), ('bias', tensor([0.1898]))])\n",
      "Epoch: 70 | Loss: 0.232234388589859 | Test Loss: 0.398892343044281\n",
      "OrderedDict([('weights', tensor([0.3644])), ('bias', tensor([0.1998]))])\n",
      "Epoch: 80 | Loss: 0.22071340680122375 | Test Loss: 0.38542139530181885\n",
      "OrderedDict([('weights', tensor([0.3683])), ('bias', tensor([0.2098]))])\n",
      "Epoch: 90 | Loss: 0.2091923952102661 | Test Loss: 0.3719504475593567\n",
      "OrderedDict([('weights', tensor([0.3722])), ('bias', tensor([0.2198]))])\n",
      "Epoch: 100 | Loss: 0.19767141342163086 | Test Loss: 0.35847947001457214\n",
      "OrderedDict([('weights', tensor([0.3761])), ('bias', tensor([0.2298]))])\n",
      "Epoch: 110 | Loss: 0.18615040183067322 | Test Loss: 0.34500852227211\n",
      "OrderedDict([('weights', tensor([0.3800])), ('bias', tensor([0.2398]))])\n",
      "Epoch: 120 | Loss: 0.17462942004203796 | Test Loss: 0.33153754472732544\n",
      "OrderedDict([('weights', tensor([0.3839])), ('bias', tensor([0.2498]))])\n",
      "Epoch: 130 | Loss: 0.16310855746269226 | Test Loss: 0.3180667459964752\n",
      "OrderedDict([('weights', tensor([0.3878])), ('bias', tensor([0.2598]))])\n",
      "Epoch: 140 | Loss: 0.15158770978450775 | Test Loss: 0.304595947265625\n",
      "OrderedDict([('weights', tensor([0.3917])), ('bias', tensor([0.2698]))])\n",
      "Epoch: 150 | Loss: 0.14006686210632324 | Test Loss: 0.2911251187324524\n",
      "OrderedDict([('weights', tensor([0.3956])), ('bias', tensor([0.2798]))])\n",
      "Epoch: 160 | Loss: 0.12854602932929993 | Test Loss: 0.2776543200016022\n",
      "OrderedDict([('weights', tensor([0.3995])), ('bias', tensor([0.2898]))])\n",
      "Epoch: 170 | Loss: 0.11702518165111542 | Test Loss: 0.26418352127075195\n",
      "OrderedDict([('weights', tensor([0.4034])), ('bias', tensor([0.2998]))])\n",
      "Epoch: 180 | Loss: 0.10654274374246597 | Test Loss: 0.251315176486969\n",
      "OrderedDict([('weights', tensor([0.4073])), ('bias', tensor([0.3092]))])\n",
      "Epoch: 190 | Loss: 0.09747617691755295 | Test Loss: 0.2392154484987259\n",
      "OrderedDict([('weights', tensor([0.4112])), ('bias', tensor([0.3179]))])\n",
      "Epoch: 200 | Loss: 0.08973254263401031 | Test Loss: 0.22795839607715607\n",
      "OrderedDict([('weights', tensor([0.4150])), ('bias', tensor([0.3257]))])\n",
      "Epoch: 210 | Loss: 0.08306284993886948 | Test Loss: 0.21740305423736572\n",
      "OrderedDict([('weights', tensor([0.4188])), ('bias', tensor([0.3329]))])\n",
      "Epoch: 220 | Loss: 0.07729282230138779 | Test Loss: 0.20750825107097626\n",
      "OrderedDict([('weights', tensor([0.4225])), ('bias', tensor([0.3395]))])\n",
      "Epoch: 230 | Loss: 0.07242877781391144 | Test Loss: 0.19840054214000702\n",
      "OrderedDict([('weights', tensor([0.4261])), ('bias', tensor([0.3454]))])\n",
      "Epoch: 240 | Loss: 0.06828799843788147 | Test Loss: 0.18992407619953156\n",
      "OrderedDict([('weights', tensor([0.4296])), ('bias', tensor([0.3508]))])\n",
      "Epoch: 250 | Loss: 0.06476505100727081 | Test Loss: 0.18208928406238556\n",
      "OrderedDict([('weights', tensor([0.4330])), ('bias', tensor([0.3556]))])\n",
      "Epoch: 260 | Loss: 0.06174134090542793 | Test Loss: 0.17478716373443604\n",
      "OrderedDict([('weights', tensor([0.4363])), ('bias', tensor([0.3599]))])\n",
      "Epoch: 270 | Loss: 0.05915876477956772 | Test Loss: 0.16802480816841125\n",
      "OrderedDict([('weights', tensor([0.4395])), ('bias', tensor([0.3638]))])\n",
      "Epoch: 280 | Loss: 0.0569603331387043 | Test Loss: 0.161748006939888\n",
      "OrderedDict([('weights', tensor([0.4426])), ('bias', tensor([0.3673]))])\n",
      "Epoch: 290 | Loss: 0.05514555424451828 | Test Loss: 0.15608695149421692\n",
      "OrderedDict([('weights', tensor([0.4456])), ('bias', tensor([0.3703]))])\n",
      "Epoch: 300 | Loss: 0.05357731133699417 | Test Loss: 0.15086300671100616\n",
      "OrderedDict([('weights', tensor([0.4485])), ('bias', tensor([0.3730]))])\n",
      "Epoch: 310 | Loss: 0.05218071490526199 | Test Loss: 0.14595307409763336\n",
      "OrderedDict([('weights', tensor([0.4513])), ('bias', tensor([0.3754]))])\n",
      "Epoch: 320 | Loss: 0.05105169489979744 | Test Loss: 0.1415499746799469\n",
      "OrderedDict([('weights', tensor([0.4540])), ('bias', tensor([0.3774]))])\n",
      "Epoch: 330 | Loss: 0.050030313432216644 | Test Loss: 0.1374681293964386\n",
      "OrderedDict([('weights', tensor([0.4567])), ('bias', tensor([0.3791]))])\n",
      "Epoch: 340 | Loss: 0.049160152673721313 | Test Loss: 0.13370750844478607\n",
      "OrderedDict([('weights', tensor([0.4592])), ('bias', tensor([0.3806]))])\n",
      "Epoch: 350 | Loss: 0.04836020991206169 | Test Loss: 0.13020753860473633\n",
      "OrderedDict([('weights', tensor([0.4617])), ('bias', tensor([0.3819]))])\n",
      "Epoch: 360 | Loss: 0.04769856110215187 | Test Loss: 0.12709848582744598\n",
      "OrderedDict([('weights', tensor([0.4640])), ('bias', tensor([0.3829]))])\n",
      "Epoch: 370 | Loss: 0.04703690856695175 | Test Loss: 0.12398938834667206\n",
      "OrderedDict([('weights', tensor([0.4664])), ('bias', tensor([0.3839]))])\n",
      "Epoch: 380 | Loss: 0.04650093987584114 | Test Loss: 0.12147434055805206\n",
      "OrderedDict([('weights', tensor([0.4686])), ('bias', tensor([0.3845]))])\n",
      "Epoch: 390 | Loss: 0.045996345579624176 | Test Loss: 0.11902527511119843\n",
      "OrderedDict([('weights', tensor([0.4708])), ('bias', tensor([0.3850]))])\n",
      "Epoch: 400 | Loss: 0.04549176245927811 | Test Loss: 0.11657620966434479\n",
      "OrderedDict([('weights', tensor([0.4730])), ('bias', tensor([0.3855]))])\n",
      "Epoch: 410 | Loss: 0.045014552772045135 | Test Loss: 0.11432783305644989\n",
      "OrderedDict([('weights', tensor([0.4751])), ('bias', tensor([0.3858]))])\n",
      "Epoch: 420 | Loss: 0.04461454600095749 | Test Loss: 0.11254779994487762\n",
      "OrderedDict([('weights', tensor([0.4771])), ('bias', tensor([0.3858]))])\n",
      "Epoch: 430 | Loss: 0.04421453922986984 | Test Loss: 0.11076776683330536\n",
      "OrderedDict([('weights', tensor([0.4791])), ('bias', tensor([0.3858]))])\n",
      "Epoch: 440 | Loss: 0.043814532458782196 | Test Loss: 0.1089877337217331\n",
      "OrderedDict([('weights', tensor([0.4811])), ('bias', tensor([0.3858]))])\n",
      "Epoch: 450 | Loss: 0.04341452196240425 | Test Loss: 0.10720770061016083\n",
      "OrderedDict([('weights', tensor([0.4831])), ('bias', tensor([0.3858]))])\n",
      "Epoch: 460 | Loss: 0.043014515191316605 | Test Loss: 0.10542766749858856\n",
      "OrderedDict([('weights', tensor([0.4851])), ('bias', tensor([0.3858]))])\n",
      "Epoch: 470 | Loss: 0.04265119880437851 | Test Loss: 0.10419009625911713\n",
      "OrderedDict([('weights', tensor([0.4870])), ('bias', tensor([0.3854]))])\n",
      "Epoch: 480 | Loss: 0.04230218380689621 | Test Loss: 0.1030881255865097\n",
      "OrderedDict([('weights', tensor([0.4888])), ('bias', tensor([0.3849]))])\n",
      "Epoch: 490 | Loss: 0.04195316880941391 | Test Loss: 0.10198615491390228\n",
      "OrderedDict([('weights', tensor([0.4906])), ('bias', tensor([0.3844]))])\n",
      "Epoch: 500 | Loss: 0.04160415381193161 | Test Loss: 0.10088418424129486\n",
      "OrderedDict([('weights', tensor([0.4924])), ('bias', tensor([0.3839]))])\n",
      "Epoch: 510 | Loss: 0.04125513881444931 | Test Loss: 0.09978221356868744\n",
      "OrderedDict([('weights', tensor([0.4942])), ('bias', tensor([0.3834]))])\n",
      "Epoch: 520 | Loss: 0.04090612381696701 | Test Loss: 0.09868024289608002\n",
      "OrderedDict([('weights', tensor([0.4960])), ('bias', tensor([0.3829]))])\n",
      "Epoch: 530 | Loss: 0.04055710881948471 | Test Loss: 0.0975782722234726\n",
      "OrderedDict([('weights', tensor([0.4978])), ('bias', tensor([0.3824]))])\n",
      "Epoch: 540 | Loss: 0.04020809382200241 | Test Loss: 0.09647630155086517\n",
      "OrderedDict([('weights', tensor([0.4996])), ('bias', tensor([0.3819]))])\n",
      "Epoch: 550 | Loss: 0.03985908254981041 | Test Loss: 0.09537436813116074\n",
      "OrderedDict([('weights', tensor([0.5014])), ('bias', tensor([0.3814]))])\n",
      "Epoch: 560 | Loss: 0.03951007127761841 | Test Loss: 0.09427239745855331\n",
      "OrderedDict([('weights', tensor([0.5032])), ('bias', tensor([0.3809]))])\n",
      "Epoch: 570 | Loss: 0.03916105255484581 | Test Loss: 0.09317042678594589\n",
      "OrderedDict([('weights', tensor([0.5050])), ('bias', tensor([0.3804]))])\n",
      "Epoch: 580 | Loss: 0.03881204128265381 | Test Loss: 0.09206845611333847\n",
      "OrderedDict([('weights', tensor([0.5068])), ('bias', tensor([0.3799]))])\n",
      "Epoch: 590 | Loss: 0.03846302255988121 | Test Loss: 0.09096648544073105\n",
      "OrderedDict([('weights', tensor([0.5086])), ('bias', tensor([0.3794]))])\n",
      "Epoch: 600 | Loss: 0.03811401128768921 | Test Loss: 0.08986451476812363\n",
      "OrderedDict([('weights', tensor([0.5104])), ('bias', tensor([0.3789]))])\n",
      "Epoch: 610 | Loss: 0.03776499256491661 | Test Loss: 0.0887625440955162\n",
      "OrderedDict([('weights', tensor([0.5122])), ('bias', tensor([0.3784]))])\n",
      "Epoch: 620 | Loss: 0.03741598129272461 | Test Loss: 0.08766057342290878\n",
      "OrderedDict([('weights', tensor([0.5140])), ('bias', tensor([0.3779]))])\n",
      "Epoch: 630 | Loss: 0.037067197263240814 | Test Loss: 0.08662726730108261\n",
      "OrderedDict([('weights', tensor([0.5157])), ('bias', tensor([0.3774]))])\n",
      "Epoch: 640 | Loss: 0.03672432154417038 | Test Loss: 0.08579986542463303\n",
      "OrderedDict([('weights', tensor([0.5175])), ('bias', tensor([0.3767]))])\n",
      "Epoch: 650 | Loss: 0.03638043254613876 | Test Loss: 0.08497253060340881\n",
      "OrderedDict([('weights', tensor([0.5192])), ('bias', tensor([0.3760]))])\n",
      "Epoch: 660 | Loss: 0.036036938428878784 | Test Loss: 0.08421380817890167\n",
      "OrderedDict([('weights', tensor([0.5209])), ('bias', tensor([0.3752]))])\n",
      "Epoch: 670 | Loss: 0.035693906247615814 | Test Loss: 0.08338643610477448\n",
      "OrderedDict([('weights', tensor([0.5226])), ('bias', tensor([0.3745]))])\n",
      "Epoch: 680 | Loss: 0.035350002348423004 | Test Loss: 0.08255907148122787\n",
      "OrderedDict([('weights', tensor([0.5243])), ('bias', tensor([0.3738]))])\n",
      "Epoch: 690 | Loss: 0.035006679594516754 | Test Loss: 0.08180035650730133\n",
      "OrderedDict([('weights', tensor([0.5260])), ('bias', tensor([0.3731]))])\n",
      "Epoch: 700 | Loss: 0.03466346859931946 | Test Loss: 0.08097299933433533\n",
      "OrderedDict([('weights', tensor([0.5277])), ('bias', tensor([0.3724]))])\n",
      "Epoch: 710 | Loss: 0.03431956097483635 | Test Loss: 0.08014564216136932\n",
      "OrderedDict([('weights', tensor([0.5294])), ('bias', tensor([0.3717]))])\n",
      "Epoch: 720 | Loss: 0.03397642448544502 | Test Loss: 0.07938691228628159\n",
      "OrderedDict([('weights', tensor([0.5311])), ('bias', tensor([0.3709]))])\n",
      "Epoch: 730 | Loss: 0.0336330309510231 | Test Loss: 0.07855955511331558\n",
      "OrderedDict([('weights', tensor([0.5328])), ('bias', tensor([0.3702]))])\n",
      "Epoch: 740 | Loss: 0.03328912332653999 | Test Loss: 0.07773219794034958\n",
      "OrderedDict([('weights', tensor([0.5346])), ('bias', tensor([0.3695]))])\n",
      "Epoch: 750 | Loss: 0.032946161925792694 | Test Loss: 0.07697348296642303\n",
      "OrderedDict([('weights', tensor([0.5363])), ('bias', tensor([0.3688]))])\n",
      "Epoch: 760 | Loss: 0.03260258957743645 | Test Loss: 0.07614611089229584\n",
      "OrderedDict([('weights', tensor([0.5380])), ('bias', tensor([0.3681]))])\n",
      "Epoch: 770 | Loss: 0.0322587676346302 | Test Loss: 0.07538740336894989\n",
      "OrderedDict([('weights', tensor([0.5397])), ('bias', tensor([0.3673]))])\n",
      "Epoch: 780 | Loss: 0.031915903091430664 | Test Loss: 0.07456003129482269\n",
      "OrderedDict([('weights', tensor([0.5414])), ('bias', tensor([0.3666]))])\n",
      "Epoch: 790 | Loss: 0.031572166830301285 | Test Loss: 0.07373266667127609\n",
      "OrderedDict([('weights', tensor([0.5431])), ('bias', tensor([0.3659]))])\n",
      "Epoch: 800 | Loss: 0.03122851625084877 | Test Loss: 0.07297395914793015\n",
      "OrderedDict([('weights', tensor([0.5448])), ('bias', tensor([0.3652]))])\n",
      "Epoch: 810 | Loss: 0.03088562563061714 | Test Loss: 0.07214658707380295\n",
      "OrderedDict([('weights', tensor([0.5465])), ('bias', tensor([0.3645]))])\n",
      "Epoch: 820 | Loss: 0.03054172359406948 | Test Loss: 0.07131922990083694\n",
      "OrderedDict([('weights', tensor([0.5482])), ('bias', tensor([0.3638]))])\n",
      "Epoch: 830 | Loss: 0.030198251828551292 | Test Loss: 0.0705605149269104\n",
      "OrderedDict([('weights', tensor([0.5499])), ('bias', tensor([0.3630]))])\n",
      "Epoch: 840 | Loss: 0.029855191707611084 | Test Loss: 0.0697331428527832\n",
      "OrderedDict([('weights', tensor([0.5516])), ('bias', tensor([0.3623]))])\n",
      "Epoch: 850 | Loss: 0.029511287808418274 | Test Loss: 0.0689057856798172\n",
      "OrderedDict([('weights', tensor([0.5534])), ('bias', tensor([0.3616]))])\n",
      "Epoch: 860 | Loss: 0.02916799485683441 | Test Loss: 0.06814707070589066\n",
      "OrderedDict([('weights', tensor([0.5551])), ('bias', tensor([0.3609]))])\n",
      "Epoch: 870 | Loss: 0.028824755921959877 | Test Loss: 0.06731969118118286\n",
      "OrderedDict([('weights', tensor([0.5568])), ('bias', tensor([0.3602]))])\n",
      "Epoch: 880 | Loss: 0.02848084643483162 | Test Loss: 0.06649234890937805\n",
      "OrderedDict([('weights', tensor([0.5585])), ('bias', tensor([0.3595]))])\n",
      "Epoch: 890 | Loss: 0.02813773788511753 | Test Loss: 0.06573362648487091\n",
      "OrderedDict([('weights', tensor([0.5602])), ('bias', tensor([0.3587]))])\n",
      "Epoch: 900 | Loss: 0.027794325724244118 | Test Loss: 0.06490625441074371\n",
      "OrderedDict([('weights', tensor([0.5619])), ('bias', tensor([0.3580]))])\n",
      "Epoch: 910 | Loss: 0.02745041623711586 | Test Loss: 0.06407888978719711\n",
      "OrderedDict([('weights', tensor([0.5636])), ('bias', tensor([0.3573]))])\n",
      "Epoch: 920 | Loss: 0.0271074827760458 | Test Loss: 0.06332017481327057\n",
      "OrderedDict([('weights', tensor([0.5653])), ('bias', tensor([0.3566]))])\n",
      "Epoch: 930 | Loss: 0.026763886213302612 | Test Loss: 0.062492817640304565\n",
      "OrderedDict([('weights', tensor([0.5670])), ('bias', tensor([0.3559]))])\n",
      "Epoch: 940 | Loss: 0.02642008289694786 | Test Loss: 0.06173409894108772\n",
      "OrderedDict([('weights', tensor([0.5687])), ('bias', tensor([0.3551]))])\n",
      "Epoch: 950 | Loss: 0.02607722207903862 | Test Loss: 0.06090673804283142\n",
      "OrderedDict([('weights', tensor([0.5704])), ('bias', tensor([0.3544]))])\n",
      "Epoch: 960 | Loss: 0.025733450427651405 | Test Loss: 0.06007937341928482\n",
      "OrderedDict([('weights', tensor([0.5721])), ('bias', tensor([0.3537]))])\n",
      "Epoch: 970 | Loss: 0.02538982965052128 | Test Loss: 0.05932066589593887\n",
      "OrderedDict([('weights', tensor([0.5738])), ('bias', tensor([0.3530]))])\n",
      "Epoch: 980 | Loss: 0.02504691109061241 | Test Loss: 0.058493297547101974\n",
      "OrderedDict([('weights', tensor([0.5756])), ('bias', tensor([0.3523]))])\n",
      "Epoch: 990 | Loss: 0.0247030109167099 | Test Loss: 0.057665932923555374\n",
      "OrderedDict([('weights', tensor([0.5773])), ('bias', tensor([0.3516]))])\n"
     ]
    }
   ],
   "source": [
    "torch.manual_seed(42)\n",
    "# epoch adalah looping through the data, epochs adalah hyperparameter\n",
    "epochs = 1000\n",
    "\n",
    "# track \n",
    "epoch_count = []\n",
    "loss_values = []\n",
    "test_loss_values = []\n",
    "\n",
    "## training\n",
    "# 1. loop through the data\n",
    "for epoch in range(epochs):\n",
    "    # set the model to training mode\n",
    "    model_0.train() # train mode in pytorch set all parameters that require gradients\n",
    "    # 2. forward pass\n",
    "    y_pred = model_0(X_train)\n",
    "    # 3. calculate loss\n",
    "    loss = loss_fn(y_pred, Y_train)\n",
    "    # 4. optimizer zero grad\n",
    "    optimizer.zero_grad()\n",
    "    # 5. perform backpropagation on the loss with respect to the parameter of the model\n",
    "    loss.backward()\n",
    "    # 6. step the optimizer untuk perform gradient descent\n",
    "    optimizer.step()\n",
    "\n",
    "    ## testing code\n",
    "    model_0.eval()\n",
    "    with torch.inference_mode():\n",
    "        # 1. forward pass\n",
    "        test_pred = model_0(X_test)\n",
    "        # 2. calculate loss\n",
    "        test_loss = loss_fn(test_pred, Y_test)\n",
    "        \n",
    "    #print semua biar tau\n",
    "    if epoch % 10 == 0:\n",
    "        epoch_count.append(epoch)\n",
    "        loss_values.append(loss)\n",
    "        test_loss_values.append(test_loss)\n",
    "        print(f\"Epoch: {epoch} | Loss: {loss} | Test Loss: {test_loss}\")\n",
    "        print(model_0.state_dict())"
   ]
  },
  {
   "cell_type": "code",
   "execution_count": 18,
   "metadata": {},
   "outputs": [
    {
     "data": {
      "image/png": "[encoded data removed]",
      "text/plain": [
       "<Figure size 1000x700 with 1 Axes>"
      ]
     },
     "metadata": {},
     "output_type": "display_data"
    }
   ],
   "source": [
    "plot_predictions(predictions=y_preds)"
   ]
  },
  {
   "cell_type": "code",
   "execution_count": 19,
   "metadata": {},
   "outputs": [],
   "source": [
    "with torch.inference_mode():\n",
    "    y_preds_new = model_0(X_test)"
   ]
  },
  {
   "cell_type": "code",
   "execution_count": 20,
   "metadata": {},
   "outputs": [
    {
     "data": {
      "image/png": "[encoded data removed]",
      "text/plain": [
       "<Figure size 1000x700 with 1 Axes>"
      ]
     },
     "metadata": {},
     "output_type": "display_data"
    }
   ],
   "source": [
    "plot_predictions(predictions=y_preds_new)"
   ]
  },
  {
   "cell_type": "code",
   "execution_count": 21,
   "metadata": {},
   "outputs": [],
   "source": [
    "import numpy as np"
   ]
  },
  {
   "cell_type": "code",
   "execution_count": 22,
   "metadata": {},
   "outputs": [
    {
     "data": {
      "text/plain": [
       "(array([0.31288138, 0.30136034, 0.2898394 , 0.27831835, 0.26679736,\n",
       "        0.25527638, 0.24375539, 0.23223439, 0.2207134 , 0.2091924 ,\n",
       "        0.19767141, 0.1861504 , 0.17462942, 0.16310856, 0.15158771,\n",
       "        0.14006686, 0.12854603, 0.11702518, 0.10654274, 0.09747618,\n",
       "        0.08973254, 0.08306285, 0.07729282, 0.07242878, 0.068288  ,\n",
       "        0.06476505, 0.06174134, 0.05915876, 0.05696033, 0.05514555,\n",
       "        0.05357731, 0.05218071, 0.05105169, 0.05003031, 0.04916015,\n",
       "        0.04836021, 0.04769856, 0.04703691, 0.04650094, 0.04599635,\n",
       "        0.04549176, 0.04501455, 0.04461455, 0.04421454, 0.04381453,\n",
       "        0.04341452, 0.04301452, 0.0426512 , 0.04230218, 0.04195317,\n",
       "        0.04160415, 0.04125514, 0.04090612, 0.04055711, 0.04020809,\n",
       "        0.03985908, 0.03951007, 0.03916105, 0.03881204, 0.03846302,\n",
       "        0.03811401, 0.03776499, 0.03741598, 0.0370672 , 0.03672432,\n",
       "        0.03638043, 0.03603694, 0.03569391, 0.03535   , 0.03500668,\n",
       "        0.03466347, 0.03431956, 0.03397642, 0.03363303, 0.03328912,\n",
       "        0.03294616, 0.03260259, 0.03225877, 0.0319159 , 0.03157217,\n",
       "        0.03122852, 0.03088563, 0.03054172, 0.03019825, 0.02985519,\n",
       "        0.02951129, 0.02916799, 0.02882476, 0.02848085, 0.02813774,\n",
       "        0.02779433, 0.02745042, 0.02710748, 0.02676389, 0.02642008,\n",
       "        0.02607722, 0.02573345, 0.02538983, 0.02504691, 0.02470301],\n",
       "       dtype=float32),\n",
       " [tensor(0.4932),\n",
       "  tensor(0.4797),\n",
       "  tensor(0.4662),\n",
       "  tensor(0.4528),\n",
       "  tensor(0.4393),\n",
       "  tensor(0.4258),\n",
       "  tensor(0.4124),\n",
       "  tensor(0.3989),\n",
       "  tensor(0.3854),\n",
       "  tensor(0.3720),\n",
       "  tensor(0.3585),\n",
       "  tensor(0.3450),\n",
       "  tensor(0.3315),\n",
       "  tensor(0.3181),\n",
       "  tensor(0.3046),\n",
       "  tensor(0.2911),\n",
       "  tensor(0.2777),\n",
       "  tensor(0.2642),\n",
       "  tensor(0.2513),\n",
       "  tensor(0.2392),\n",
       "  tensor(0.2280),\n",
       "  tensor(0.2174),\n",
       "  tensor(0.2075),\n",
       "  tensor(0.1984),\n",
       "  tensor(0.1899),\n",
       "  tensor(0.1821),\n",
       "  tensor(0.1748),\n",
       "  tensor(0.1680),\n",
       "  tensor(0.1617),\n",
       "  tensor(0.1561),\n",
       "  tensor(0.1509),\n",
       "  tensor(0.1460),\n",
       "  tensor(0.1415),\n",
       "  tensor(0.1375),\n",
       "  tensor(0.1337),\n",
       "  tensor(0.1302),\n",
       "  tensor(0.1271),\n",
       "  tensor(0.1240),\n",
       "  tensor(0.1215),\n",
       "  tensor(0.1190),\n",
       "  tensor(0.1166),\n",
       "  tensor(0.1143),\n",
       "  tensor(0.1125),\n",
       "  tensor(0.1108),\n",
       "  tensor(0.1090),\n",
       "  tensor(0.1072),\n",
       "  tensor(0.1054),\n",
       "  tensor(0.1042),\n",
       "  tensor(0.1031),\n",
       "  tensor(0.1020),\n",
       "  tensor(0.1009),\n",
       "  tensor(0.0998),\n",
       "  tensor(0.0987),\n",
       "  tensor(0.0976),\n",
       "  tensor(0.0965),\n",
       "  tensor(0.0954),\n",
       "  tensor(0.0943),\n",
       "  tensor(0.0932),\n",
       "  tensor(0.0921),\n",
       "  tensor(0.0910),\n",
       "  tensor(0.0899),\n",
       "  tensor(0.0888),\n",
       "  tensor(0.0877),\n",
       "  tensor(0.0866),\n",
       "  tensor(0.0858),\n",
       "  tensor(0.0850),\n",
       "  tensor(0.0842),\n",
       "  tensor(0.0834),\n",
       "  tensor(0.0826),\n",
       "  tensor(0.0818),\n",
       "  tensor(0.0810),\n",
       "  tensor(0.0801),\n",
       "  tensor(0.0794),\n",
       "  tensor(0.0786),\n",
       "  tensor(0.0777),\n",
       "  tensor(0.0770),\n",
       "  tensor(0.0761),\n",
       "  tensor(0.0754),\n",
       "  tensor(0.0746),\n",
       "  tensor(0.0737),\n",
       "  tensor(0.0730),\n",
       "  tensor(0.0721),\n",
       "  tensor(0.0713),\n",
       "  tensor(0.0706),\n",
       "  tensor(0.0697),\n",
       "  tensor(0.0689),\n",
       "  tensor(0.0681),\n",
       "  tensor(0.0673),\n",
       "  tensor(0.0665),\n",
       "  tensor(0.0657),\n",
       "  tensor(0.0649),\n",
       "  tensor(0.0641),\n",
       "  tensor(0.0633),\n",
       "  tensor(0.0625),\n",
       "  tensor(0.0617),\n",
       "  tensor(0.0609),\n",
       "  tensor(0.0601),\n",
       "  tensor(0.0593),\n",
       "  tensor(0.0585),\n",
       "  tensor(0.0577)])"
      ]
     },
     "execution_count": 22,
     "metadata": {},
     "output_type": "execute_result"
    }
   ],
   "source": [
    "np.array(torch.tensor(loss_values).numpy()), test_loss_values"
   ]
  },
  {
   "cell_type": "code",
   "execution_count": 23,
   "metadata": {},
   "outputs": [
    {
     "data": {
      "image/png": "[encoded data removed]",
      "text/plain": [
       "<Figure size 640x480 with 1 Axes>"
      ]
     },
     "metadata": {},
     "output_type": "display_data"
    }
   ],
   "source": [
    "# plot the loss curves\n",
    "plt.plot(epoch_count, np.array(torch.tensor(loss_values).numpy()), label=\"Train Loss\")\n",
    "plt.plot(epoch_count, test_loss_values, label=\"Test Loss\")\n",
    "plt.title(\"Training and test loss curves\")\n",
    "plt.ylabel(\"Loss\")\n",
    "plt.xlabel(\"Epochs\")\n",
    "plt.legend();"
   ]
  },
  {
   "cell_type": "markdown",
   "metadata": {},
   "source": [
    "## Saving a model in pytorch \n",
    "\n",
    "3 cara yang perlu diketahui untuk saving and loading models di pytorch\n",
    "1. `torch.save()` - save pytoch object in Python pickle\n",
    "2. `torch.load()` - load a save pytorch object\n",
    "3. `torch.nn.Module.load_state_dict()` - load model's saved state dictionary"
   ]
  },
  {
   "cell_type": "code",
   "execution_count": 24,
   "metadata": {},
   "outputs": [
    {
     "name": "stdout",
     "output_type": "stream",
     "text": [
      "saving model state dict to models\\01_Pytorch_Workflow_0.pth\n"
     ]
    }
   ],
   "source": [
    "# saving our pytorch model\n",
    "from pathlib import Path\n",
    "\n",
    "# 1. create models directory\n",
    "MODEL_PATH = Path(\"models\")\n",
    "MODEL_PATH.mkdir(parents=True, exist_ok=True)\n",
    "\n",
    "# 2. create model save path\n",
    "MODEL_NAME = '01_Pytorch_Workflow_0.pth'\n",
    "MODEL_SAVE_PATH = MODEL_PATH / MODEL_NAME\n",
    "\n",
    "# 3. safe a model state_dict\n",
    "print(f'saving model state dict to {MODEL_SAVE_PATH}')\n",
    "torch.save(obj=model_0.state_dict(), f=MODEL_SAVE_PATH)\n"
   ]
  },
  {
   "cell_type": "code",
   "execution_count": 25,
   "metadata": {},
   "outputs": [
    {
     "name": "stdout",
     "output_type": "stream",
     "text": [
      "saving entire model to models\\01_Pytorch_Workflow_0_entire model.pth\n"
     ]
    }
   ],
   "source": [
    "# 1. create models directory\n",
    "MODEL_PATH = Path(\"models\")\n",
    "MODEL_PATH.mkdir(parents=True, exist_ok=True)\n",
    "\n",
    "# 2. create model save path\n",
    "MODEL_NAME = '01_Pytorch_Workflow_0_entire model.pth'\n",
    "MODEL_SAVE_PATH = MODEL_PATH / MODEL_NAME\n",
    "\n",
    "# 4. save entire model\n",
    "print(f'saving entire model to {MODEL_SAVE_PATH}')\n",
    "torch.save(model_0, MODEL_SAVE_PATH)"
   ]
  },
  {
   "cell_type": "markdown",
   "metadata": {},
   "source": [
    "## loading a saved model\n",
    "\n",
    "using load from state dict and entire model\n",
    "create a new instance and load the saved state_dict"
   ]
  },
  {
   "cell_type": "code",
   "execution_count": 26,
   "metadata": {},
   "outputs": [
    {
     "data": {
      "text/plain": [
       "OrderedDict([('weights', tensor([0.5788])), ('bias', tensor([0.3509]))])"
      ]
     },
     "execution_count": 26,
     "metadata": {},
     "output_type": "execute_result"
    }
   ],
   "source": [
    "model_0.state_dict()"
   ]
  },
  {
   "cell_type": "code",
   "execution_count": 27,
   "metadata": {},
   "outputs": [
    {
     "name": "stderr",
     "output_type": "stream",
     "text": [
      "C:\\Users\\ibnuk\\AppData\\Local\\Temp\\ipykernel_16144\\675015869.py:6: FutureWarning: You are using `torch.load` with `weights_only=False` (the current default value), which uses the default pickle module implicitly. It is possible to construct malicious pickle data which will execute arbitrary code during unpickling (See https://github.com/pytorch/pytorch/blob/main/SECURITY.md#untrusted-models for more details). In a future release, the default value for `weights_only` will be flipped to `True`. This limits the functions that could be executed during unpickling. Arbitrary objects will no longer be allowed to be loaded via this mode unless they are explicitly allowlisted by the user via `torch.serialization.add_safe_globals`. We recommend you start setting `weights_only=True` for any use case where you don't have full control of the loaded file. Please open an issue on GitHub for any issues related to this experimental feature.\n",
      "  loaded_dict_model_0.load_state_dict(torch.load(f=SAVED_DICT_MODEL_0))\n"
     ]
    },
    {
     "data": {
      "text/plain": [
       "<All keys matched successfully>"
      ]
     },
     "execution_count": 27,
     "metadata": {},
     "output_type": "execute_result"
    }
   ],
   "source": [
    "# To load in a saved state dict, buat new instance of our model class\n",
    "loaded_dict_model_0 = LinearReggressionModel()\n",
    "\n",
    "SAVED_DICT_MODEL_0 = \"./models/01_Pytorch_Workflow_0.pth\"\n",
    "# load the saved state_dict of model_0\n",
    "loaded_dict_model_0.load_state_dict(torch.load(f=SAVED_DICT_MODEL_0))"
   ]
  },
  {
   "cell_type": "code",
   "execution_count": 28,
   "metadata": {},
   "outputs": [
    {
     "data": {
      "text/plain": [
       "tensor([[0.8140],\n",
       "        [0.8255],\n",
       "        [0.8371],\n",
       "        [0.8487],\n",
       "        [0.8603],\n",
       "        [0.8718],\n",
       "        [0.8834],\n",
       "        [0.8950],\n",
       "        [0.9066],\n",
       "        [0.9181]])"
      ]
     },
     "execution_count": 28,
     "metadata": {},
     "output_type": "execute_result"
    }
   ],
   "source": [
    "# make some predictions with our loaded model\n",
    "\n",
    "loaded_dict_model_0.eval()\n",
    "with torch.inference_mode():\n",
    "    loaded_model_predictions = loaded_dict_model_0(X_test)\n",
    "\n",
    "loaded_model_predictions"
   ]
  },
  {
   "cell_type": "code",
   "execution_count": 29,
   "metadata": {},
   "outputs": [
    {
     "data": {
      "text/plain": [
       "tensor([[True],\n",
       "        [True],\n",
       "        [True],\n",
       "        [True],\n",
       "        [True],\n",
       "        [True],\n",
       "        [True],\n",
       "        [True],\n",
       "        [True],\n",
       "        [True]])"
      ]
     },
     "execution_count": 29,
     "metadata": {},
     "output_type": "execute_result"
    }
   ],
   "source": [
    "# compare loaded model preds with originial model preds\n",
    "y_preds_new == loaded_model_predictions"
   ]
  },
  {
   "cell_type": "markdown",
   "metadata": {},
   "source": [
    "## 6. Putting it all together\n",
    "\n",
    "tulis ulang dan see it all in one place"
   ]
  },
  {
   "cell_type": "code",
   "execution_count": 32,
   "metadata": {},
   "outputs": [
    {
     "data": {
      "text/plain": [
       "'2.4.0+cu124'"
      ]
     },
     "execution_count": 32,
     "metadata": {},
     "output_type": "execute_result"
    }
   ],
   "source": [
    "# import pytorch and matplotlib\n",
    "import torch\n",
    "from torch import nn\n",
    "import matplotlib.pyplot as plt\n",
    "\n",
    "# cek pytorch version\n",
    "torch.__version__"
   ]
  },
  {
   "cell_type": "markdown",
   "metadata": {},
   "source": [
    "create device-agnostic code\n",
    "\n",
    "check if gpu is available and use it"
   ]
  },
  {
   "cell_type": "code",
   "execution_count": 34,
   "metadata": {},
   "outputs": [
    {
     "name": "stdout",
     "output_type": "stream",
     "text": [
      "Using device: cuda\n"
     ]
    }
   ],
   "source": [
    "# setup device agnostic code\n",
    "device = \"cuda\" if torch.cuda.is_available() else \"cpu\"\n",
    "print(f'Using device: {device}')"
   ]
  },
  {
   "cell_type": "markdown",
   "metadata": {},
   "source": [
    "### 6.1 Data"
   ]
  },
  {
   "cell_type": "code",
   "execution_count": 96,
   "metadata": {},
   "outputs": [
    {
     "data": {
      "text/plain": [
       "(tensor([[0.0000],\n",
       "         [0.0200],\n",
       "         [0.0400],\n",
       "         [0.0600],\n",
       "         [0.0800],\n",
       "         [0.1000],\n",
       "         [0.1200],\n",
       "         [0.1400],\n",
       "         [0.1600],\n",
       "         [0.1800]]),\n",
       " tensor([[0.3000],\n",
       "         [0.3140],\n",
       "         [0.3280],\n",
       "         [0.3420],\n",
       "         [0.3560],\n",
       "         [0.3700],\n",
       "         [0.3840],\n",
       "         [0.3980],\n",
       "         [0.4120],\n",
       "         [0.4260]]))"
      ]
     },
     "execution_count": 96,
     "metadata": {},
     "output_type": "execute_result"
    }
   ],
   "source": [
    "# create some data using the linear regression of y = weight * X + bias\n",
    "weight = 0.7\n",
    "bias = 0.3\n",
    "\n",
    "# create range values\n",
    "start = 0\n",
    "end = 1\n",
    "step = 0.02\n",
    "\n",
    "# create x and y (features and labels)\n",
    "\n",
    "X = torch.arange(start, end, step).unsqueeze(dim=1)\n",
    "Y = weight * X + bias\n",
    "X[:10], Y[:10]"
   ]
  },
  {
   "cell_type": "code",
   "execution_count": 97,
   "metadata": {},
   "outputs": [
    {
     "data": {
      "text/plain": [
       "(40, 40, 10, 10)"
      ]
     },
     "execution_count": 97,
     "metadata": {},
     "output_type": "execute_result"
    }
   ],
   "source": [
    "# split data\n",
    "train_split = int(0.8 * len(X))\n",
    "X_train, Y_train = X[:train_split], Y[:train_split]\n",
    "X_test, Y_test = X[train_split:], Y[train_split:]\n",
    "len(X_train), len(Y_train), len(X_test), len(Y_test)"
   ]
  },
  {
   "cell_type": "code",
   "execution_count": 98,
   "metadata": {},
   "outputs": [
    {
     "data": {
      "image/png": "[encoded data removed]",
      "text/plain": [
       "<Figure size 1000x700 with 1 Axes>"
      ]
     },
     "metadata": {},
     "output_type": "display_data"
    }
   ],
   "source": [
    "# plot the data\n",
    "plot_predictions(X_train.cpu(), Y_train.cpu(), X_test.cpu(), Y_test.cpu())"
   ]
  },
  {
   "cell_type": "markdown",
   "metadata": {},
   "source": [
    "### 6.2 Building a pytorch linear model"
   ]
  },
  {
   "cell_type": "markdown",
   "metadata": {},
   "source": [
    "this linear model i will take from my bangkit simulasi tensorflow developer certificate and i will implement it into tensorflow code for practice"
   ]
  },
  {
   "cell_type": "code",
   "execution_count": 99,
   "metadata": {},
   "outputs": [
    {
     "data": {
      "text/plain": [
       "(LinearModelLikeTensorflow(\n",
       "   (linear): Linear(in_features=1, out_features=1, bias=True)\n",
       " ),\n",
       " OrderedDict([('linear.weight', tensor([[0.7645]])),\n",
       "              ('linear.bias', tensor([0.8300]))]))"
      ]
     },
     "execution_count": 99,
     "metadata": {},
     "output_type": "execute_result"
    }
   ],
   "source": [
    "# create a linear model subclass nn.Module\n",
    "class LinearModelLikeTensorflow(nn.Module):\n",
    "    def __init__(self):\n",
    "        super().__init__()\n",
    "        # use nn.Linear\n",
    "        self.linear = nn.Linear(in_features=1, out_features=1)\n",
    "\n",
    "    def forward(self, x: torch.Tensor) -> torch.Tensor:\n",
    "        return self.linear(x)\n",
    "\n",
    "torch.manual_seed(42)\n",
    "model_1 = LinearModelLikeTensorflow()\n",
    "model_1, model_1.state_dict()"
   ]
  },
  {
   "cell_type": "code",
   "execution_count": 100,
   "metadata": {},
   "outputs": [
    {
     "data": {
      "text/plain": [
       "device(type='cpu')"
      ]
     },
     "execution_count": 100,
     "metadata": {},
     "output_type": "execute_result"
    }
   ],
   "source": [
    "#check the model current device\n",
    "next(model_1.parameters()).device"
   ]
  },
  {
   "cell_type": "code",
   "execution_count": 101,
   "metadata": {},
   "outputs": [
    {
     "data": {
      "text/plain": [
       "device(type='cuda', index=0)"
      ]
     },
     "execution_count": 101,
     "metadata": {},
     "output_type": "execute_result"
    }
   ],
   "source": [
    "# set the mode to use the target device\n",
    "model_1.to(device)\n",
    "next(model_1.parameters()).device"
   ]
  },
  {
   "cell_type": "markdown",
   "metadata": {},
   "source": [
    "### 6.3 Training\n",
    "\n",
    "for training we need\n",
    "- loss function\n",
    "- optimizer\n",
    "- training loop\n",
    "- testing loop"
   ]
  },
  {
   "cell_type": "code",
   "execution_count": 102,
   "metadata": {},
   "outputs": [],
   "source": [
    "# setup loss function\n",
    "loss_function = nn.L1Loss() \n",
    "\n",
    "# setup optimizer\n",
    "optimizer = torch.optim.SGD(model_1.parameters(), lr=0.01)"
   ]
  },
  {
   "cell_type": "code",
   "execution_count": 103,
   "metadata": {},
   "outputs": [
    {
     "name": "stdout",
     "output_type": "stream",
     "text": [
      "Epoch: 0 | Loss: 0.5551779866218567 | Test Loss: 0.5739762187004089\n",
      "Epoch: 10 | Loss: 0.439968079328537 | Test Loss: 0.4392664134502411\n",
      "Epoch: 20 | Loss: 0.3247582018375397 | Test Loss: 0.30455657839775085\n",
      "Epoch: 30 | Loss: 0.20954833924770355 | Test Loss: 0.16984669864177704\n",
      "Epoch: 40 | Loss: 0.09433845430612564 | Test Loss: 0.03513690456748009\n",
      "Epoch: 50 | Loss: 0.023886388167738914 | Test Loss: 0.04784907028079033\n",
      "Epoch: 60 | Loss: 0.019956795498728752 | Test Loss: 0.045803118497133255\n",
      "Epoch: 70 | Loss: 0.016517987474799156 | Test Loss: 0.037530567497015\n",
      "Epoch: 80 | Loss: 0.013089174404740334 | Test Loss: 0.02994490973651409\n",
      "Epoch: 90 | Loss: 0.009653178043663502 | Test Loss: 0.02167237363755703\n",
      "Epoch: 100 | Loss: 0.006215683650225401 | Test Loss: 0.014086711220443249\n",
      "Epoch: 110 | Loss: 0.00278724217787385 | Test Loss: 0.005814164876937866\n",
      "Epoch: 120 | Loss: 0.0012645035749301314 | Test Loss: 0.013801801018416882\n",
      "Epoch: 130 | Loss: 0.0012645035749301314 | Test Loss: 0.013801801018416882\n",
      "Epoch: 140 | Loss: 0.0012645035749301314 | Test Loss: 0.013801801018416882\n",
      "Epoch: 150 | Loss: 0.0012645035749301314 | Test Loss: 0.013801801018416882\n",
      "Epoch: 160 | Loss: 0.0012645035749301314 | Test Loss: 0.013801801018416882\n",
      "Epoch: 170 | Loss: 0.0012645035749301314 | Test Loss: 0.013801801018416882\n",
      "Epoch: 180 | Loss: 0.0012645035749301314 | Test Loss: 0.013801801018416882\n",
      "Epoch: 190 | Loss: 0.0012645035749301314 | Test Loss: 0.013801801018416882\n"
     ]
    }
   ],
   "source": [
    "# training loop\n",
    "torch.manual_seed(42)\n",
    "\n",
    "epochs = 200\n",
    "\n",
    "# put the data in target device (agnostic code for data)\n",
    "X_train = X_train.to(device)\n",
    "Y_train = Y_train.to(device)\n",
    "X_test = X_test.to(device)\n",
    "Y_test = Y_test.to(device)\n",
    "\n",
    "for epoch in range(epochs):\n",
    "    model_1.train()\n",
    "    # 1. forward pass\n",
    "    y_pred = model_1(X_train)\n",
    "    # 2. loss\n",
    "    loss = loss_fn(y_pred, Y_train)\n",
    "    # 3. optimizer zero grad\n",
    "    optimizer.zero_grad()\n",
    "    # 4. backpropagation\n",
    "    loss.backward()\n",
    "    # 5. optimizer step\n",
    "    optimizer.step()\n",
    "\n",
    "    ### Testing\n",
    "    model_1.eval()\n",
    "    with torch.inference_mode():\n",
    "        test_pred = model_1(X_test)\n",
    "        test_loss = loss_fn(test_pred, Y_test)\n",
    "\n",
    "    # print out what's happening\n",
    "\n",
    "    if epoch % 10 == 0:\n",
    "        print(f'Epoch: {epoch} | Loss: {loss} | Test Loss: {test_loss}')"
   ]
  },
  {
   "cell_type": "code",
   "execution_count": 104,
   "metadata": {},
   "outputs": [
    {
     "data": {
      "text/plain": [
       "(0.7, 0.3)"
      ]
     },
     "execution_count": 104,
     "metadata": {},
     "output_type": "execute_result"
    }
   ],
   "source": [
    "weight, bias"
   ]
  },
  {
   "cell_type": "code",
   "execution_count": 105,
   "metadata": {},
   "outputs": [
    {
     "data": {
      "text/plain": [
       "OrderedDict([('linear.weight', tensor([[0.6968]], device='cuda:0')),\n",
       "             ('linear.bias', tensor([0.3025], device='cuda:0'))])"
      ]
     },
     "execution_count": 105,
     "metadata": {},
     "output_type": "execute_result"
    }
   ],
   "source": [
    "model_1.state_dict()"
   ]
  },
  {
   "cell_type": "markdown",
   "metadata": {},
   "source": [
    "### 6.4 making and Evaluating Predictions"
   ]
  },
  {
   "cell_type": "code",
   "execution_count": 106,
   "metadata": {},
   "outputs": [
    {
     "data": {
      "text/plain": [
       "tensor([[0.8600],\n",
       "        [0.8739],\n",
       "        [0.8878],\n",
       "        [0.9018],\n",
       "        [0.9157],\n",
       "        [0.9296],\n",
       "        [0.9436],\n",
       "        [0.9575],\n",
       "        [0.9714],\n",
       "        [0.9854]], device='cuda:0')"
      ]
     },
     "execution_count": 106,
     "metadata": {},
     "output_type": "execute_result"
    }
   ],
   "source": [
    "# turn model into eval mode\n",
    "model_1.eval()\n",
    "\n",
    "# make predictions on the test data\n",
    "with torch.inference_mode():\n",
    "    y_preds = model_1(X_test)\n",
    "\n",
    "y_preds"
   ]
  },
  {
   "cell_type": "code",
   "execution_count": 107,
   "metadata": {},
   "outputs": [
    {
     "data": {
      "image/png": "[encoded data removed]",
      "text/plain": [
       "<Figure size 1000x700 with 1 Axes>"
      ]
     },
     "metadata": {},
     "output_type": "display_data"
    }
   ],
   "source": [
    "y_preds = y_preds.cpu()\n",
    "\n",
    "# checkout our model predictions visually\n",
    "plot_predictions(predictions=y_preds)"
   ]
  },
  {
   "cell_type": "markdown",
   "metadata": {},
   "source": [
    "### 6.5 Saving and Loading a trained Model"
   ]
  },
  {
   "cell_type": "code",
   "execution_count": 110,
   "metadata": {},
   "outputs": [
    {
     "name": "stdout",
     "output_type": "stream",
     "text": [
      "saving entire model to models\\01_Pytorch_Workflow_Model_1.pth\n"
     ]
    }
   ],
   "source": [
    "from pathlib import Path\n",
    "\n",
    "# 1. create models directory\n",
    "MODEL_PATH = Path(\"models\")\n",
    "MODEL_PATH.mkdir(parents=True, exist_ok=True)\n",
    "\n",
    "# 2. create model save path\n",
    "MODEL_NAME = '01_Pytorch_Workflow_Model_1.pth'\n",
    "MODEL_SAVE_PATH = MODEL_PATH / MODEL_NAME\n",
    "\n",
    "# 3. save entire model\n",
    "print(f'saving entire model to {MODEL_SAVE_PATH}')\n",
    "torch.save(model_1.state_dict(), MODEL_SAVE_PATH)"
   ]
  },
  {
   "cell_type": "code",
   "execution_count": 111,
   "metadata": {},
   "outputs": [
    {
     "name": "stderr",
     "output_type": "stream",
     "text": [
      "C:\\Users\\ibnuk\\AppData\\Local\\Temp\\ipykernel_16144\\638909094.py:5: FutureWarning: You are using `torch.load` with `weights_only=False` (the current default value), which uses the default pickle module implicitly. It is possible to construct malicious pickle data which will execute arbitrary code during unpickling (See https://github.com/pytorch/pytorch/blob/main/SECURITY.md#untrusted-models for more details). In a future release, the default value for `weights_only` will be flipped to `True`. This limits the functions that could be executed during unpickling. Arbitrary objects will no longer be allowed to be loaded via this mode unless they are explicitly allowlisted by the user via `torch.serialization.add_safe_globals`. We recommend you start setting `weights_only=True` for any use case where you don't have full control of the loaded file. Please open an issue on GitHub for any issues related to this experimental feature.\n",
      "  loaded_model_1.load_state_dict(torch.load(\"./models/01_Pytorch_Workflow_Model_1.pth\"))\n"
     ]
    },
    {
     "data": {
      "text/plain": [
       "LinearModelLikeTensorflow(\n",
       "  (linear): Linear(in_features=1, out_features=1, bias=True)\n",
       ")"
      ]
     },
     "execution_count": 111,
     "metadata": {},
     "output_type": "execute_result"
    }
   ],
   "source": [
    "# To load in a saved state dict, buat new instance of our model class\n",
    "loaded_model_1 = LinearModelLikeTensorflow()\n",
    "\n",
    "# load the saved model_1 state_dict\n",
    "loaded_model_1.load_state_dict(torch.load(\"./models/01_Pytorch_Workflow_Model_1.pth\"))\n",
    "\n",
    "# put the loaded model to the device\n",
    "loaded_model_1.to(device)"
   ]
  },
  {
   "cell_type": "code",
   "execution_count": 112,
   "metadata": {},
   "outputs": [
    {
     "data": {
      "text/plain": [
       "device(type='cuda', index=0)"
      ]
     },
     "execution_count": 112,
     "metadata": {},
     "output_type": "execute_result"
    }
   ],
   "source": [
    "next(loaded_model_1.parameters()).device"
   ]
  },
  {
   "cell_type": "code",
   "execution_count": 113,
   "metadata": {},
   "outputs": [
    {
     "data": {
      "text/plain": [
       "OrderedDict([('linear.weight', tensor([[0.6968]], device='cuda:0')),\n",
       "             ('linear.bias', tensor([0.3025], device='cuda:0'))])"
      ]
     },
     "execution_count": 113,
     "metadata": {},
     "output_type": "execute_result"
    }
   ],
   "source": [
    "loaded_model_1.state_dict()"
   ]
  },
  {
   "cell_type": "code",
   "execution_count": 115,
   "metadata": {},
   "outputs": [
    {
     "data": {
      "text/plain": [
       "tensor([[True],\n",
       "        [True],\n",
       "        [True],\n",
       "        [True],\n",
       "        [True],\n",
       "        [True],\n",
       "        [True],\n",
       "        [True],\n",
       "        [True],\n",
       "        [True]], device='cuda:0')"
      ]
     },
     "execution_count": 115,
     "metadata": {},
     "output_type": "execute_result"
    }
   ],
   "source": [
    "# evaluate loaded model\n",
    "loaded_model_1.eval()\n",
    "with torch.inference_mode():\n",
    "    loaded_model_1_preds = loaded_model_1(X_test)\n",
    "\n",
    "y_preds == loaded_model_1_preds"
   ]
  },
  {
   "cell_type": "markdown",
   "metadata": {},
   "source": [
    "# 01 Section CLEAR, Congrats\n",
    "Now on to the exercises"
   ]
  }
 ],
 "metadata": {
  "kernelspec": {
   "display_name": "Python 3 (ipykernel)",
   "language": "python",
   "name": "python3"
  },
  "language_info": {
   "codemirror_mode": {
    "name": "ipython",
    "version": 3
   },
   "file_extension": ".py",
   "mimetype": "text/x-python",
   "name": "python",
   "nbconvert_exporter": "python",
   "pygments_lexer": "ipython3",
   "version": "3.10.11"
  }
 },
 "nbformat": 4,
 "nbformat_minor": 4
}
