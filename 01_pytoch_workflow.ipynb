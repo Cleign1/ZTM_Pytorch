{
 "cells": [
  {
   "cell_type": "code",
   "execution_count": 1,
   "metadata": {},
   "outputs": [],
   "source": [
    "import torch"
   ]
  },
  {
   "cell_type": "code",
   "execution_count": 2,
   "metadata": {
    "editable": true,
    "slideshow": {
     "slide_type": ""
    },
    "tags": []
   },
   "outputs": [
    {
     "data": {
      "text/plain": [
       "True"
      ]
     },
     "execution_count": 2,
     "metadata": {},
     "output_type": "execute_result"
    }
   ],
   "source": [
    "torch.cuda.is_available()"
   ]
  },
  {
   "cell_type": "markdown",
   "metadata": {},
   "source": [
    "# Pytorch Workflow\n",
    "\n",
    "exploring [pytorch](https://pytorch.org)\n",
    "from udemy course pytoch for Deep Learning Bootcamp"
   ]
  },
  {
   "cell_type": "code",
   "execution_count": 3,
   "metadata": {},
   "outputs": [
    {
     "data": {
      "text/plain": [
       "{1: 'data (preparing and loading)',\n",
       " 2: 'build Model',\n",
       " 3: 'training model or fitting the model to the data',\n",
       " 4: 'make predictions and evaluating and a model',\n",
       " 5: 'save and load model',\n",
       " 6: 'putting it all together'}"
      ]
     },
     "execution_count": 3,
     "metadata": {},
     "output_type": "execute_result"
    }
   ],
   "source": [
    "what_is_covered = {1: \"data (preparing and loading)\",\n",
    "                   2: \"build Model\",\n",
    "                   3: \"training model or fitting the model to the data\",\n",
    "                   4: \"make predictions and evaluating and a model\", \n",
    "                   5: \"save and load model\", \n",
    "                   6: \"putting it all together\"}\n",
    "what_is_covered"
   ]
  },
  {
   "cell_type": "code",
   "execution_count": 4,
   "metadata": {},
   "outputs": [
    {
     "data": {
      "text/plain": [
       "'2.4.0+cu124'"
      ]
     },
     "execution_count": 4,
     "metadata": {},
     "output_type": "execute_result"
    }
   ],
   "source": [
    "## Neural Network\n",
    "\n",
    "from torch import nn\n",
    "import matplotlib.pyplot as plt\n",
    "\n",
    "torch.__version__"
   ]
  },
  {
   "cell_type": "markdown",
   "metadata": {},
   "source": [
    "## 1. Data (preparing and loading)\n",
    "\n",
    "data can be anything in machine learning\n",
    "\n",
    "most popular data\n",
    "* Excel spreadsheet\n",
    "* Images\n",
    "* Videos\n",
    "* Audio\n",
    "* Text\n",
    "\n",
    "Machine Learning is a game\n",
    "1. Get data into a numerical representation.\n",
    "2. build a model to learn patterns in the numerical rep.\n",
    "\n",
    "to showcase, lets create the following data using linear regression formula\n",
    "\n",
    "Y = a + bX"
   ]
  },
  {
   "cell_type": "code",
   "execution_count": 5,
   "metadata": {},
   "outputs": [
    {
     "data": {
      "text/plain": [
       "(tensor([[0.0000],\n",
       "         [0.0200],\n",
       "         [0.0400],\n",
       "         [0.0600],\n",
       "         [0.0800],\n",
       "         [0.1000],\n",
       "         [0.1200],\n",
       "         [0.1400],\n",
       "         [0.1600],\n",
       "         [0.1800]]),\n",
       " tensor([[0.3000],\n",
       "         [0.3140],\n",
       "         [0.3280],\n",
       "         [0.3420],\n",
       "         [0.3560],\n",
       "         [0.3700],\n",
       "         [0.3840],\n",
       "         [0.3980],\n",
       "         [0.4120],\n",
       "         [0.4260]]),\n",
       " 50,\n",
       " 50)"
      ]
     },
     "execution_count": 5,
     "metadata": {},
     "output_type": "execute_result"
    }
   ],
   "source": [
    "# Create known parameters\n",
    "\n",
    "weight  = 0.7\n",
    "bias = 0.3\n",
    "\n",
    "start = 0\n",
    "end = 1\n",
    "step = 0.02\n",
    "\n",
    "X = torch.arange(start, end, step).unsqueeze(dim=1)\n",
    "Y = weight * X + bias\n",
    "\n",
    "X[:10], Y[:10], len(X), len(Y)"
   ]
  },
  {
   "cell_type": "markdown",
   "metadata": {},
   "source": [
    "### Splitting data into training and test set\n",
    "\n",
    "create a training and test set with our data"
   ]
  },
  {
   "cell_type": "code",
   "execution_count": 7,
   "metadata": {},
   "outputs": [
    {
     "data": {
      "text/plain": [
       "(40, 40, 10, 10)"
      ]
     },
     "execution_count": 7,
     "metadata": {},
     "output_type": "execute_result"
    }
   ],
   "source": [
    "# create train/test split\n",
    "train_split = int(0.8 * len(X))\n",
    "X_train, Y_train = X[:train_split], Y[:train_split]\n",
    "X_test, Y_test = X[train_split:], Y[train_split:]\n",
    "\n",
    "len(X_train), len(Y_train), len(X_test), len(Y_test)"
   ]
  },
  {
   "cell_type": "markdown",
   "metadata": {},
   "source": [
    "Visualize data\n",
    "\n",
    "data explorer motto :\n",
    "visualize, visualize, visualize\n"
   ]
  },
  {
   "cell_type": "code",
   "execution_count": 8,
   "metadata": {},
   "outputs": [
    {
     "data": {
      "image/png": "[encoded data removed]",
      "text/plain": [
       "<Figure size 1000x700 with 1 Axes>"
      ]
     },
     "metadata": {},
     "output_type": "display_data"
    }
   ],
   "source": [
    "def plot_predictions(train_data=X_train,\n",
    "                    train_labels=Y_train,\n",
    "                    test_data=X_test,\n",
    "                    test_labels=Y_test,\n",
    "                    predictions=None):\n",
    "    \n",
    "    # set up plot\n",
    "    plt.figure(figsize=(10, 7))\n",
    "    \n",
    "    # plot training data in blue\n",
    "    plt.scatter(train_data, train_labels, c=\"b\", s=4, label=\"Training data\")\n",
    "    \n",
    "    #plot test data in green\n",
    "    plt.scatter(test_data, test_labels, c='g', s=4, label=\"Test Data\")\n",
    "\n",
    "    # apakah ada prediksi?\n",
    "    if predictions is not None:\n",
    "        # plot the predictions if they exist\n",
    "        plt.scatter(test_data, predictions, c='r', s=4, label=\"Predictions\")\n",
    "\n",
    "    # show legends\n",
    "    plt.legend(prop={\"size\":14})\n",
    "    plt.show()\n",
    "\n",
    "plot_predictions()"
   ]
  },
  {
   "cell_type": "markdown",
   "metadata": {},
   "source": [
    "## 2. Build Model\n",
    "\n",
    "first pytoch model\n",
    "\n",
    "what our model does:\n",
    "* start from random values (weight and bias)\n",
    "* look at training data and adjust the random values to better represent or get closer to the ideal values\n",
    "\n",
    "how does it do so?\n",
    "\n",
    "through two main algorithms:\n",
    "1. gradient descend\n",
    "2. backpropagation"
   ]
  },
  {
   "cell_type": "code",
   "execution_count": null,
   "metadata": {},
   "outputs": [],
   "source": [
    "# Create a linear reggression model class\n",
    "\n",
    "class LinearReggressionModel(nn.module): # almost everything in Pytorch inherits nn.module\n",
    "    def __init__(self):\n",
    "        super().__init__()\n",
    "        self.weights = nn.Parameter(torch.randn(1, \n",
    "                                                requires_grad=True,\n",
    "                                                dtype=torch.float))\n",
    "        self.bias = nn.Parameter(torch.randn(1,\n",
    "                                            requires_grad=True,\n",
    "                                            dtype=torch.float))\n",
    "\n",
    "        # Foward untuk menjelaskan komputasi dalam model\n",
    "        def forward(self, x: torch.Tensor) -> torch.Tensor: # <- \"x\" adalah input data\n",
    "            return self.weights * x + self.bias"
   ]
  }
 ],
 "metadata": {
  "kernelspec": {
   "display_name": "Python 3 (ipykernel)",
   "language": "python",
   "name": "python3"
  },
  "language_info": {
   "codemirror_mode": {
    "name": "ipython",
    "version": 3
   },
   "file_extension": ".py",
   "mimetype": "text/x-python",
   "name": "python",
   "nbconvert_exporter": "python",
   "pygments_lexer": "ipython3",
   "version": "3.10.11"
  }
 },
 "nbformat": 4,
 "nbformat_minor": 4
}
